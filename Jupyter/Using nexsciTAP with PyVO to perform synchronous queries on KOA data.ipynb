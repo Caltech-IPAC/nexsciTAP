{
 "cells": [
  {
   "cell_type": "markdown",
   "metadata": {},
   "source": [
    "# Test Notebook For PyVO Client Testing with synchronous calls to KOA TAP Server v1.0  #\n",
    "\n",
    "## Created by Bruce Berriman, April 7 2020 #"
   ]
  },
  {
   "cell_type": "markdown",
   "metadata": {},
   "source": [
    "### Set up\n",
    "#### Install PyVO via  $pip install PyVO \n",
    "#### The SQL embedded in the URLs has been decoded with http://www.asiteaboutnothing.net/c_decode-url.html \n",
    "\n"
   ]
  },
  {
   "cell_type": "code",
   "execution_count": 1,
   "metadata": {},
   "outputs": [],
   "source": [
    "from pyvo.dal import tap "
   ]
  },
  {
   "cell_type": "code",
   "execution_count": 2,
   "metadata": {},
   "outputs": [],
   "source": [
    "koa = tap.TAPService('http://vmkoatest.ipac.caltech.edu/TAP')"
   ]
  },
  {
   "cell_type": "code",
   "execution_count": 3,
   "metadata": {},
   "outputs": [],
   "source": [
    "# import time"
   ]
  },
  {
   "cell_type": "markdown",
   "metadata": {},
   "source": [
    "### Test 1- output_format_1\n"
   ]
  },
  {
   "cell_type": "code",
   "execution_count": 63,
   "metadata": {},
   "outputs": [],
   "source": [
    "sql = \"select koaid, filehand from koa_hires where koaid like '%20040824%' \"\n"
   ]
  },
  {
   "cell_type": "code",
   "execution_count": 64,
   "metadata": {},
   "outputs": [
    {
     "name": "stdout",
     "output_type": "stream",
     "text": [
      "<Table length=105>\n",
      "        koaid                                filehand                      \n",
      "        object                                object                       \n",
      "---------------------- ----------------------------------------------------\n",
      "HI.20040824.08204.fits /koadata1/HIRES/20040824/lev0/HI.20040824.08204.fits\n",
      "HI.20040824.08544.fits /koadata1/HIRES/20040824/lev0/HI.20040824.08544.fits\n",
      "HI.20040824.08591.fits /koadata1/HIRES/20040824/lev0/HI.20040824.08591.fits\n",
      "HI.20040824.08638.fits /koadata1/HIRES/20040824/lev0/HI.20040824.08638.fits\n",
      "HI.20040824.08685.fits /koadata1/HIRES/20040824/lev0/HI.20040824.08685.fits\n",
      "HI.20040824.08732.fits /koadata1/HIRES/20040824/lev0/HI.20040824.08732.fits\n",
      "HI.20040824.08779.fits /koadata1/HIRES/20040824/lev0/HI.20040824.08779.fits\n",
      "HI.20040824.08826.fits /koadata1/HIRES/20040824/lev0/HI.20040824.08826.fits\n",
      "HI.20040824.08873.fits /koadata1/HIRES/20040824/lev0/HI.20040824.08873.fits\n",
      "HI.20040824.08919.fits /koadata1/HIRES/20040824/lev0/HI.20040824.08919.fits\n",
      "                   ...                                                  ...\n",
      "HI.20040824.54803.fits /koadata1/HIRES/20040824/lev0/HI.20040824.54803.fits\n",
      "HI.20040824.54849.fits /koadata1/HIRES/20040824/lev0/HI.20040824.54849.fits\n",
      "HI.20040824.54896.fits /koadata1/HIRES/20040824/lev0/HI.20040824.54896.fits\n",
      "HI.20040824.54944.fits /koadata1/HIRES/20040824/lev0/HI.20040824.54944.fits\n",
      "HI.20040824.54990.fits /koadata1/HIRES/20040824/lev0/HI.20040824.54990.fits\n",
      "HI.20040824.55037.fits /koadata1/HIRES/20040824/lev0/HI.20040824.55037.fits\n",
      "HI.20040824.55084.fits /koadata1/HIRES/20040824/lev0/HI.20040824.55084.fits\n",
      "HI.20040824.55131.fits /koadata1/HIRES/20040824/lev0/HI.20040824.55131.fits\n",
      "HI.20040824.55177.fits /koadata1/HIRES/20040824/lev0/HI.20040824.55177.fits\n",
      "HI.20040824.55224.fits /koadata1/HIRES/20040824/lev0/HI.20040824.55224.fits\n"
     ]
    }
   ],
   "source": [
    "results_output_format_1= koa.run_sync(sql)\n",
    "print(results_output_format_1)"
   ]
  },
  {
   "cell_type": "markdown",
   "metadata": {},
   "source": [
    "## Test  2 - different output formats\n",
    "#### PyVO may not be able accept formats other than voformat, so we will test that we can convert the VOTable to other formats.\n",
    "\n"
   ]
  },
  {
   "cell_type": "code",
   "execution_count": 68,
   "metadata": {},
   "outputs": [],
   "source": [
    "##repeat frst test\n",
    "\n",
    "sql = \"select koaid, filehand from koa_hires where koaid like '%20040824%' \""
   ]
  },
  {
   "cell_type": "code",
   "execution_count": 69,
   "metadata": {},
   "outputs": [
    {
     "data": {
      "text/plain": [
       "(<function print>, <Table length=105>\n",
       "         koaid                                filehand                      \n",
       "         object                                object                       \n",
       " ---------------------- ----------------------------------------------------\n",
       " HI.20040824.08204.fits /koadata1/HIRES/20040824/lev0/HI.20040824.08204.fits\n",
       " HI.20040824.08544.fits /koadata1/HIRES/20040824/lev0/HI.20040824.08544.fits\n",
       " HI.20040824.08591.fits /koadata1/HIRES/20040824/lev0/HI.20040824.08591.fits\n",
       " HI.20040824.08638.fits /koadata1/HIRES/20040824/lev0/HI.20040824.08638.fits\n",
       " HI.20040824.08685.fits /koadata1/HIRES/20040824/lev0/HI.20040824.08685.fits\n",
       " HI.20040824.08732.fits /koadata1/HIRES/20040824/lev0/HI.20040824.08732.fits\n",
       " HI.20040824.08779.fits /koadata1/HIRES/20040824/lev0/HI.20040824.08779.fits\n",
       " HI.20040824.08826.fits /koadata1/HIRES/20040824/lev0/HI.20040824.08826.fits\n",
       " HI.20040824.08873.fits /koadata1/HIRES/20040824/lev0/HI.20040824.08873.fits\n",
       " HI.20040824.08919.fits /koadata1/HIRES/20040824/lev0/HI.20040824.08919.fits\n",
       "                    ...                                                  ...\n",
       " HI.20040824.54803.fits /koadata1/HIRES/20040824/lev0/HI.20040824.54803.fits\n",
       " HI.20040824.54849.fits /koadata1/HIRES/20040824/lev0/HI.20040824.54849.fits\n",
       " HI.20040824.54896.fits /koadata1/HIRES/20040824/lev0/HI.20040824.54896.fits\n",
       " HI.20040824.54944.fits /koadata1/HIRES/20040824/lev0/HI.20040824.54944.fits\n",
       " HI.20040824.54990.fits /koadata1/HIRES/20040824/lev0/HI.20040824.54990.fits\n",
       " HI.20040824.55037.fits /koadata1/HIRES/20040824/lev0/HI.20040824.55037.fits\n",
       " HI.20040824.55084.fits /koadata1/HIRES/20040824/lev0/HI.20040824.55084.fits\n",
       " HI.20040824.55131.fits /koadata1/HIRES/20040824/lev0/HI.20040824.55131.fits\n",
       " HI.20040824.55177.fits /koadata1/HIRES/20040824/lev0/HI.20040824.55177.fits\n",
       " HI.20040824.55224.fits /koadata1/HIRES/20040824/lev0/HI.20040824.55224.fits)"
      ]
     },
     "execution_count": 69,
     "metadata": {},
     "output_type": "execute_result"
    }
   ],
   "source": [
    "##results\n",
    "results = koa.run_sync(sql)\n",
    "print, results"
   ]
  },
  {
   "cell_type": "code",
   "execution_count": 70,
   "metadata": {},
   "outputs": [],
   "source": [
    "# write results to an ascii table\n",
    "table=results.to_table()\n",
    "table.write ('./table_ipacascii.tbl',format='ascii.ipac',overwrite=True)"
   ]
  },
  {
   "cell_type": "code",
   "execution_count": 71,
   "metadata": {},
   "outputs": [],
   "source": [
    "#  write results to CSV file\n",
    "results = koa.run_sync(sql)\n",
    "table=results.to_table()\n",
    "table.write ('./table_csv.tbl',format='csv', overwrite=True)"
   ]
  },
  {
   "cell_type": "markdown",
   "metadata": {},
   "source": [
    "### PASS"
   ]
  },
  {
   "cell_type": "markdown",
   "metadata": {},
   "source": [
    "### Test  3:  Select all keywords\n"
   ]
  },
  {
   "cell_type": "code",
   "execution_count": 72,
   "metadata": {},
   "outputs": [],
   "source": [
    "sql = \"select * from koa_hires where koaid like '%20040824%' \""
   ]
  },
  {
   "cell_type": "code",
   "execution_count": 73,
   "metadata": {},
   "outputs": [
    {
     "data": {
      "text/plain": [
       "(<function print>, <Table length=105>\n",
       "    el   elaptime equinox eramode ...      z        spt_ind      ofname    \n",
       " float64  int32   float64  object ...   float64      int32       object    \n",
       " ------- -------- ------- ------- ... ------------ --------- --------------\n",
       "    45.0        1     0.0 B, G, R ... 0.7068576891 203233131 hires2300.fits\n",
       "    45.0        1     0.0 B, G, R ... 0.7068576891 203233131 hires2301.fits\n",
       "    45.0        1     0.0 B, G, R ... 0.7068576891 203233131 hires2302.fits\n",
       "    45.0        1     0.0 B, G, R ... 0.7068576891 203233131 hires2303.fits\n",
       "    45.0        1     0.0 B, G, R ... 0.7068576891 203233131 hires2304.fits\n",
       "    45.0        1     0.0 B, G, R ... 0.7068576891 203233131 hires2305.fits\n",
       "    45.0        1     0.0 B, G, R ... 0.7068576891 203233131 hires2306.fits\n",
       "    45.0        1     0.0 B, G, R ... 0.7068576891 203233131 hires2307.fits\n",
       "    45.0        1     0.0 B, G, R ... 0.7068576891 203233131 hires2308.fits\n",
       "    45.0        1     0.0 B, G, R ... 0.7068576891 203233131 hires2309.fits\n",
       "     ...      ...     ...     ... ...          ...       ...            ...\n",
       "    0.01        1  2000.0 B, G, R ... 0.0001813223 200021201 hires2395.fits\n",
       "    0.01        1  2000.0 B, G, R ... 0.0001813223 200021201 hires2396.fits\n",
       "    0.01        1  2000.0 B, G, R ... 0.0001813223 200021201 hires2397.fits\n",
       "    0.01        1  2000.0 B, G, R ... 0.0001813223 200021201 hires2398.fits\n",
       "    0.01        1  2000.0 B, G, R ... 0.0001813223 200021201 hires2399.fits\n",
       "    0.01        1  2000.0 B, G, R ... 0.0001813223 200021201 hires2400.fits\n",
       "    0.01        1  2000.0 B, G, R ... 0.0001813223 200021201 hires2401.fits\n",
       "    0.01        1  2000.0 B, G, R ... 0.0001813223 200021201 hires2402.fits\n",
       "    0.01        1  2000.0 B, G, R ... 0.0001813223 200021201 hires2403.fits\n",
       "    0.01        1  2000.0 B, G, R ... 0.0001813223 200021201 hires2404.fits)"
      ]
     },
     "execution_count": 73,
     "metadata": {},
     "output_type": "execute_result"
    }
   ],
   "source": [
    "results = koa.run_sync(sql)\n",
    "print, results"
   ]
  },
  {
   "cell_type": "code",
   "execution_count": 74,
   "metadata": {},
   "outputs": [],
   "source": [
    "## write output file\n",
    "table_selectall=results.to_table()\n",
    "table_selectall.write ('./table_selectall.tbl',format='votable',overwrite=True)"
   ]
  },
  {
   "cell_type": "markdown",
   "metadata": {},
   "source": [
    "### Pass"
   ]
  },
  {
   "cell_type": "markdown",
   "metadata": {},
   "source": [
    "### Test 4: Select_2  - select filehandle keyword\n"
   ]
  },
  {
   "cell_type": "code",
   "execution_count": 75,
   "metadata": {},
   "outputs": [
    {
     "data": {
      "text/plain": [
       "(<function print>, <Table length=105>\n",
       "                       filehand                      \n",
       "                        object                       \n",
       " ----------------------------------------------------\n",
       " /koadata1/HIRES/20040824/lev0/HI.20040824.08204.fits\n",
       " /koadata1/HIRES/20040824/lev0/HI.20040824.08544.fits\n",
       " /koadata1/HIRES/20040824/lev0/HI.20040824.08591.fits\n",
       " /koadata1/HIRES/20040824/lev0/HI.20040824.08638.fits\n",
       " /koadata1/HIRES/20040824/lev0/HI.20040824.08685.fits\n",
       " /koadata1/HIRES/20040824/lev0/HI.20040824.08732.fits\n",
       " /koadata1/HIRES/20040824/lev0/HI.20040824.08779.fits\n",
       " /koadata1/HIRES/20040824/lev0/HI.20040824.08826.fits\n",
       " /koadata1/HIRES/20040824/lev0/HI.20040824.08873.fits\n",
       " /koadata1/HIRES/20040824/lev0/HI.20040824.08919.fits\n",
       "                                                  ...\n",
       " /koadata1/HIRES/20040824/lev0/HI.20040824.54803.fits\n",
       " /koadata1/HIRES/20040824/lev0/HI.20040824.54849.fits\n",
       " /koadata1/HIRES/20040824/lev0/HI.20040824.54896.fits\n",
       " /koadata1/HIRES/20040824/lev0/HI.20040824.54944.fits\n",
       " /koadata1/HIRES/20040824/lev0/HI.20040824.54990.fits\n",
       " /koadata1/HIRES/20040824/lev0/HI.20040824.55037.fits\n",
       " /koadata1/HIRES/20040824/lev0/HI.20040824.55084.fits\n",
       " /koadata1/HIRES/20040824/lev0/HI.20040824.55131.fits\n",
       " /koadata1/HIRES/20040824/lev0/HI.20040824.55177.fits\n",
       " /koadata1/HIRES/20040824/lev0/HI.20040824.55224.fits)"
      ]
     },
     "execution_count": 75,
     "metadata": {},
     "output_type": "execute_result"
    }
   ],
   "source": [
    "sql = \"select filehand from koa_hires where koaid like '%20040824%' \"\n",
    "results = koa.run_sync(sql)\n",
    "print, results"
   ]
  },
  {
   "cell_type": "code",
   "execution_count": 76,
   "metadata": {},
   "outputs": [],
   "source": [
    "# write output file\n",
    "table_selectfilehand=results.to_table()\n",
    "table.write ('./table_selectfilehand.tbl',format='votable',overwrite='True')"
   ]
  },
  {
   "cell_type": "markdown",
   "metadata": {},
   "source": [
    "### PASS"
   ]
  },
  {
   "cell_type": "markdown",
   "metadata": {},
   "source": [
    "### Test 5: Select keyword that does not exist\n",
    "#### select%20DOESNOTEXIST%20from%20koa.koa_hires_v7%20where%20koaid%20like%20%27%2520040824%25%27&format=ipac"
   ]
  },
  {
   "cell_type": "code",
   "execution_count": 77,
   "metadata": {},
   "outputs": [],
   "source": [
    "sql = \"select DOESNOTEXIST from koa_hires where koaid like '%20040824%' \"\n",
    "\n",
    "try:\n",
    "    results = koa.run_sync(sql)\n",
    "    table   = results.to_table()\n",
    "    table.write('./select_DOES.tbl',format='ascii.ipac',overwrite=True)\n",
    "    \n",
    "except Exception as e:\n",
    "    with open ('./select_DOES.tbl', 'w+') as fp:\n",
    "      fp.write (f'Error: {str(e):s}')\n",
    "      fp.flush()\n",
    "    "
   ]
  },
  {
   "cell_type": "markdown",
   "metadata": {},
   "source": [
    "#### PASS Returns correct error message"
   ]
  },
  {
   "cell_type": "markdown",
   "metadata": {},
   "source": [
    "### Test 6: select KOAID twice\n"
   ]
  },
  {
   "cell_type": "code",
   "execution_count": 78,
   "metadata": {},
   "outputs": [],
   "source": [
    "sql = \"select koaid, koaid from koa_hires where koaid like '%20040824%' \"\n",
    "results = koa.run_sync(sql)"
   ]
  },
  {
   "cell_type": "code",
   "execution_count": 80,
   "metadata": {},
   "outputs": [
    {
     "name": "stdout",
     "output_type": "stream",
     "text": [
      "<Table length=105>\n",
      "        koaid                  koaid2        \n",
      "        object                 object        \n",
      "---------------------- ----------------------\n",
      "HI.20040824.08204.fits HI.20040824.08204.fits\n",
      "HI.20040824.08544.fits HI.20040824.08544.fits\n",
      "HI.20040824.08591.fits HI.20040824.08591.fits\n",
      "HI.20040824.08638.fits HI.20040824.08638.fits\n",
      "HI.20040824.08685.fits HI.20040824.08685.fits\n",
      "HI.20040824.08732.fits HI.20040824.08732.fits\n",
      "HI.20040824.08779.fits HI.20040824.08779.fits\n",
      "HI.20040824.08826.fits HI.20040824.08826.fits\n",
      "HI.20040824.08873.fits HI.20040824.08873.fits\n",
      "HI.20040824.08919.fits HI.20040824.08919.fits\n",
      "                   ...                    ...\n",
      "HI.20040824.54803.fits HI.20040824.54803.fits\n",
      "HI.20040824.54849.fits HI.20040824.54849.fits\n",
      "HI.20040824.54896.fits HI.20040824.54896.fits\n",
      "HI.20040824.54944.fits HI.20040824.54944.fits\n",
      "HI.20040824.54990.fits HI.20040824.54990.fits\n",
      "HI.20040824.55037.fits HI.20040824.55037.fits\n",
      "HI.20040824.55084.fits HI.20040824.55084.fits\n",
      "HI.20040824.55131.fits HI.20040824.55131.fits\n",
      "HI.20040824.55177.fits HI.20040824.55177.fits\n",
      "HI.20040824.55224.fits HI.20040824.55224.fits\n"
     ]
    }
   ],
   "source": [
    "print (results)\n"
   ]
  },
  {
   "cell_type": "code",
   "execution_count": 20,
   "metadata": {},
   "outputs": [],
   "source": [
    "## write to output file\n",
    "table_2koaid=results.to_table()\n",
    "table.write ('./table_2koaid.tbl',format='votable',overwrite='True')"
   ]
  },
  {
   "cell_type": "markdown",
   "metadata": {},
   "source": [
    "#### PASS - but renames 2nd KOAID"
   ]
  },
  {
   "cell_type": "markdown",
   "metadata": {},
   "source": [
    "### Test 6: select order by sig2nois\n"
   ]
  },
  {
   "cell_type": "code",
   "execution_count": 81,
   "metadata": {},
   "outputs": [],
   "source": [
    "sql = \"select koaid, koaid from koa_hires where koaid like '%20040824%' order by sig2nois \"\n",
    "results = koa.run_sync(sql)"
   ]
  },
  {
   "cell_type": "code",
   "execution_count": 82,
   "metadata": {},
   "outputs": [],
   "source": [
    "## write output file\n",
    "table_test6_orderbysig2nois=results.to_table()\n",
    "table.write ('./table_test6_orderbysig2nois.tbl',format='votable',overwrite='True')"
   ]
  },
  {
   "cell_type": "code",
   "execution_count": 83,
   "metadata": {},
   "outputs": [
    {
     "data": {
      "text/plain": [
       "(<function print>, <Table length=105>\n",
       "         koaid          ... sig2nois\n",
       "         object         ... float64 \n",
       " ---------------------- ... --------\n",
       " HI.20040824.09677.fits ...      2.0\n",
       " HI.20040824.09724.fits ...      2.0\n",
       " HI.20040824.54001.fits ...      2.0\n",
       " HI.20040824.53947.fits ...      2.0\n",
       " HI.20040824.45942.fits ...      2.0\n",
       " HI.20040824.44695.fits ...      2.0\n",
       " HI.20040824.44395.fits ...      2.0\n",
       " HI.20040824.44343.fits ...      2.0\n",
       " HI.20040824.43054.fits ...      2.0\n",
       " HI.20040824.41806.fits ...      2.0\n",
       "                    ... ...      ...\n",
       " HI.20040824.09011.fits ...     11.0\n",
       " HI.20040824.08965.fits ...     11.0\n",
       " HI.20040824.08873.fits ...     11.0\n",
       " HI.20040824.09105.fits ...     11.0\n",
       " HI.20040824.08779.fits ...     11.0\n",
       " HI.20040824.08732.fits ...     11.0\n",
       " HI.20040824.08826.fits ...     11.0\n",
       " HI.20040824.08591.fits ...     11.0\n",
       " HI.20040824.08204.fits ...     11.0\n",
       " HI.20040824.08685.fits ...     15.0)"
      ]
     },
     "execution_count": 83,
     "metadata": {},
     "output_type": "execute_result"
    }
   ],
   "source": [
    "sql = \"select koaid, filehand, sig2nois from koa_hires where koaid like '%20040824%'order by sig2nois  \"\n",
    "results = koa.run_sync(sql)\n",
    "print,results"
   ]
  },
  {
   "cell_type": "markdown",
   "metadata": {},
   "source": [
    "### PASS"
   ]
  },
  {
   "cell_type": "markdown",
   "metadata": {},
   "source": [
    "### Test 7: order by DOESNOTEXIST\n",
    "#### select%20koaid,%20filehand,%20sig2nois%20from%20koa.koa_hires_v7%20where%20koaid%20like%20%27%2520040824%25%27%20order%20by%20DOESNOTEXIST&format=ipac"
   ]
  },
  {
   "cell_type": "code",
   "execution_count": 84,
   "metadata": {},
   "outputs": [],
   "source": [
    "sql = \"select koaid, filehand, sig2nois from koa_hires where koaid like '%20040824%'order by DOESNOTEXIST  \"\n",
    "\n",
    "try:\n",
    "    results = koa.run_sync(sql)\n",
    "    table   = results.to_table()\n",
    "    table.write('./select_orderdoesnot.tbl',format='ascii.ipac',overwrite=True)\n",
    "    \n",
    "except Exception as e:\n",
    "    with open ('./select_orderbydoesnot.tbl', 'w+') as fp:\n",
    "      fp.write (f'Error: {str(e):s}')\n",
    "      fp.flush()"
   ]
  },
  {
   "cell_type": "markdown",
   "metadata": {},
   "source": [
    "### PASS returns error condtion"
   ]
  },
  {
   "cell_type": "markdown",
   "metadata": {},
   "source": [
    "### Test 8: set max records =3\n",
    "\n"
   ]
  },
  {
   "cell_type": "code",
   "execution_count": 85,
   "metadata": {},
   "outputs": [
    {
     "data": {
      "text/plain": [
       "(<function print>, <Table length=3>\n",
       "         koaid          ... frameno\n",
       "         object         ...  int32 \n",
       " ---------------------- ... -------\n",
       " HI.20040824.08204.fits ...    2300\n",
       " HI.20040824.08544.fits ...    2301\n",
       " HI.20040824.08591.fits ...    2302)"
      ]
     },
     "execution_count": 85,
     "metadata": {},
     "output_type": "execute_result"
    }
   ],
   "source": [
    "sql=\"select koaid, filehand, frameno from koa_hires where koaid like '%20040824%'\"\n",
    "results = koa.run_sync(sql, maxrec=3)\n",
    "print, results"
   ]
  },
  {
   "cell_type": "code",
   "execution_count": 86,
   "metadata": {},
   "outputs": [],
   "source": [
    "table = results.to_table()\n",
    "table.write ('./maxrec_3.tbl', format='ascii.ipac', overwrite=True)"
   ]
  },
  {
   "cell_type": "markdown",
   "metadata": {},
   "source": [
    "### PASS "
   ]
  },
  {
   "cell_type": "markdown",
   "metadata": {},
   "source": [
    "### Test 9: set max records =  does not exist\n"
   ]
  },
  {
   "cell_type": "code",
   "execution_count": 91,
   "metadata": {},
   "outputs": [],
   "source": [
    "sql=\"select koaid, filehand, frameno from koa_hires where koaid like '%20040824%'\"\n",
    "\n",
    "try:\n",
    "    results = koa.run_sync(sql, maxrec=DOESNOTEXIST)\n",
    "    print, results\n",
    "except Exception as e:\n",
    "        print, {str(e)}\n",
    "    \n"
   ]
  },
  {
   "cell_type": "raw",
   "metadata": {},
   "source": []
  },
  {
   "cell_type": "markdown",
   "metadata": {},
   "source": [
    "### PASS"
   ]
  },
  {
   "cell_type": "markdown",
   "metadata": {},
   "source": [
    "###  Test 10 - where_1  (date range)\n",
    "#### select%20koaid,%20filehand%20from%20koa.koa_hires_v7%20where%20(utdatetime%20%3E=%20to_date(%272009-01-01%2000:00:00%27,%20%27yyyy-mm-dd%20HH24:MI:SS%27)%20and%20utdatetime%20%3C=%20to_date(%272009-01-05%2023:59:59%27,%20%27yyyy-mm-dd%20HH24:MI:SS%27))%20&format=ipac"
   ]
  },
  {
   "cell_type": "code",
   "execution_count": 92,
   "metadata": {},
   "outputs": [
    {
     "data": {
      "text/plain": [
       "(<function print>, <Table length=61>\n",
       "         koaid                                filehand                      \n",
       "         object                                object                       \n",
       " ---------------------- ----------------------------------------------------\n",
       " HI.20090101.09133.fits /koadata4/HIRES/20090101/lev0/HI.20090101.09133.fits\n",
       " HI.20090101.09658.fits /koadata4/HIRES/20090101/lev0/HI.20090101.09658.fits\n",
       " HI.20090101.09784.fits /koadata4/HIRES/20090101/lev0/HI.20090101.09784.fits\n",
       " HI.20090104.02004.fits /koadata4/HIRES/20090104/lev0/HI.20090104.02004.fits\n",
       " HI.20090104.02222.fits /koadata4/HIRES/20090104/lev0/HI.20090104.02222.fits\n",
       " HI.20090104.02477.fits /koadata4/HIRES/20090104/lev0/HI.20090104.02477.fits\n",
       " HI.20090105.04559.fits /koadata4/HIRES/20090105/lev0/HI.20090105.04559.fits\n",
       " HI.20090105.05148.fits /koadata4/HIRES/20090105/lev0/HI.20090105.05148.fits\n",
       " HI.20090105.06188.fits /koadata4/HIRES/20090105/lev0/HI.20090105.06188.fits\n",
       " HI.20090105.08445.fits /koadata4/HIRES/20090105/lev0/HI.20090105.08445.fits\n",
       "                    ...                                                  ...\n",
       " HI.20090105.10587.fits /koadata4/HIRES/20090105/lev0/HI.20090105.10587.fits\n",
       " HI.20090105.10632.fits /koadata4/HIRES/20090105/lev0/HI.20090105.10632.fits\n",
       " HI.20090105.10678.fits /koadata4/HIRES/20090105/lev0/HI.20090105.10678.fits\n",
       " HI.20090105.10724.fits /koadata4/HIRES/20090105/lev0/HI.20090105.10724.fits\n",
       " HI.20090105.10770.fits /koadata4/HIRES/20090105/lev0/HI.20090105.10770.fits\n",
       " HI.20090105.10816.fits /koadata4/HIRES/20090105/lev0/HI.20090105.10816.fits\n",
       " HI.20090105.10862.fits /koadata4/HIRES/20090105/lev0/HI.20090105.10862.fits\n",
       " HI.20090105.10908.fits /koadata4/HIRES/20090105/lev0/HI.20090105.10908.fits\n",
       " HI.20090105.10954.fits /koadata4/HIRES/20090105/lev0/HI.20090105.10954.fits\n",
       " HI.20090105.11000.fits /koadata4/HIRES/20090105/lev0/HI.20090105.11000.fits)"
      ]
     },
     "execution_count": 92,
     "metadata": {},
     "output_type": "execute_result"
    }
   ],
   "source": [
    "sql=\"select koaid, filehand from koa_hires where (utdatetime >= to_date('2009-01-01 00:00:00', 'yyyy-mm-dd HH24:MI:SS') and utdatetime <= to_date('2009-01-05 23:59:59', 'yyyy-mm-dd HH24:MI:SS'))\"\n",
    "results  = koa.run_sync(sql)\n",
    "print, results"
   ]
  },
  {
   "cell_type": "code",
   "execution_count": 93,
   "metadata": {},
   "outputs": [],
   "source": [
    "\n",
    "  \n",
    "## write to output file\n",
    "table_daterange=results.to_table()\n",
    "table.write ('./table_daterange.tbl',format='votable',overwrite=True)"
   ]
  },
  {
   "cell_type": "markdown",
   "metadata": {},
   "source": [
    "### Pass"
   ]
  },
  {
   "cell_type": "markdown",
   "metadata": {},
   "source": [
    "## Test 11: select program ID"
   ]
  },
  {
   "cell_type": "code",
   "execution_count": 94,
   "metadata": {},
   "outputs": [
    {
     "data": {
      "text/plain": [
       "(<function print>, <Table length=538>\n",
       "         koaid          ... imagetyp\n",
       "         object         ...  object \n",
       " ---------------------- ... --------\n",
       " HI.20180331.02525.fits ...    focus\n",
       " HI.20180331.03342.fits ...    focus\n",
       " HI.20180331.03598.fits ...    focus\n",
       " HI.20180331.03786.fits ...    focus\n",
       " HI.20180331.03943.fits ...    focus\n",
       " HI.20180331.04060.fits ...    focus\n",
       " HI.20180331.04218.fits ...    focus\n",
       " HI.20180331.04338.fits ...    focus\n",
       " HI.20180331.04502.fits ...  arclamp\n",
       " HI.20180331.04578.fits ...  arclamp\n",
       "                    ... ...      ...\n",
       " HI.20180801.45058.fits ...   object\n",
       " HI.20180801.45222.fits ...   object\n",
       " HI.20180801.45356.fits ...   object\n",
       " HI.20180801.45644.fits ...   object\n",
       " HI.20180801.45867.fits ...   object\n",
       " HI.20180801.45945.fits ...   object\n",
       " HI.20180801.46157.fits ... flatlamp\n",
       " HI.20180801.46246.fits ... flatlamp\n",
       " HI.20180801.46399.fits ...  arclamp\n",
       " HI.20180801.46463.fits ...  arclamp)"
      ]
     },
     "execution_count": 94,
     "metadata": {},
     "output_type": "execute_result"
    }
   ],
   "source": [
    "sql=\"select koaid, filehand, progid, iodin, imagetyp from koa_hires where (progid = 'C307') \"  \n",
    "results  = koa.run_sync(sql)\n",
    "print, results"
   ]
  },
  {
   "cell_type": "code",
   "execution_count": 95,
   "metadata": {},
   "outputs": [],
   "source": [
    "## write to output file\n",
    "table_progID_C307=results.to_table()\n",
    "table.write ('./table_priogID_C307.tbl',format='votable',overwrite=True)"
   ]
  },
  {
   "cell_type": "markdown",
   "metadata": {},
   "source": [
    "### PASS\n"
   ]
  },
  {
   "cell_type": "markdown",
   "metadata": {},
   "source": [
    "## Test 12: Spatial_1 - circle centered on RA = 262.0 Dec = 17.01   Radius 1.0   units in decimal degrees"
   ]
  },
  {
   "cell_type": "code",
   "execution_count": 96,
   "metadata": {},
   "outputs": [],
   "source": [
    "sql=(\"select koaid, filehand, ra2000, dec2000 from koa_hires where contains(point('icrs', ra2000, dec2000), circle('icrs',262.0,17.0,1.0)) = 1\")"
   ]
  },
  {
   "cell_type": "code",
   "execution_count": 97,
   "metadata": {},
   "outputs": [
    {
     "data": {
      "text/plain": [
       "(<function print>, <Table length=42>\n",
       "         koaid          ...  dec2000 \n",
       "         object         ...  float64 \n",
       " ---------------------- ... ---------\n",
       " HI.19980718.34975.fits ... 16.827111\n",
       " HI.19980912.26279.fits ... 16.824889\n",
       " HI.19980913.27523.fits ... 16.822694\n",
       " HI.19980914.23928.fits ... 16.821861\n",
       " HI.19980914.24204.fits ... 16.821861\n",
       " HI.19980914.29108.fits ... 16.822222\n",
       " HI.19980915.26653.fits ...   16.8225\n",
       " HI.19980916.25837.fits ... 16.823694\n",
       " HI.19980918.24196.fits ... 16.825194\n",
       " HI.19990421.49245.fits ...   17.5081\n",
       "                    ... ...       ...\n",
       " HI.20040824.18925.fits ... 17.509944\n",
       " HI.20040825.18800.fits ... 17.510194\n",
       " HI.20041002.18948.fits ... 17.509944\n",
       " HI.20041002.19291.fits ... 17.509944\n",
       " HI.20041002.19935.fits ... 17.509944\n",
       " HI.20041002.20579.fits ... 17.509944\n",
       " HI.20050301.49856.fits ... 16.825028\n",
       " HI.20160126.56113.fits ...   16.8245\n",
       " HI.20160714.38961.fits ...  16.82319\n",
       " HI.20180702.37596.fits ...  16.82131)"
      ]
     },
     "execution_count": 97,
     "metadata": {},
     "output_type": "execute_result"
    }
   ],
   "source": [
    "results  = koa.run_sync(sql)\n",
    "print, results"
   ]
  },
  {
   "cell_type": "markdown",
   "metadata": {},
   "source": [
    "### PASS"
   ]
  },
  {
   "cell_type": "markdown",
   "metadata": {},
   "source": [
    "### Test 13 - Spatial_2 box with 262.0 Dec = 17.01    and 1 degree "
   ]
  },
  {
   "cell_type": "code",
   "execution_count": 98,
   "metadata": {},
   "outputs": [],
   "source": [
    "sql=(\"select koaid, filehand, ra2000, dec2000 from koa_hires where contains(point('icrs', ra2000, dec2000), box('icrs',262.0,17.0,2.0,2.0)) = 1\")"
   ]
  },
  {
   "cell_type": "code",
   "execution_count": 99,
   "metadata": {},
   "outputs": [
    {
     "data": {
      "text/plain": [
       "(<function print>, <Table length=42>\n",
       "         koaid          ...  dec2000 \n",
       "         object         ...  float64 \n",
       " ---------------------- ... ---------\n",
       " HI.19980718.34975.fits ... 16.827111\n",
       " HI.19980912.26279.fits ... 16.824889\n",
       " HI.19980913.27523.fits ... 16.822694\n",
       " HI.19980914.23928.fits ... 16.821861\n",
       " HI.19980914.24204.fits ... 16.821861\n",
       " HI.19980914.29108.fits ... 16.822222\n",
       " HI.19980915.26653.fits ...   16.8225\n",
       " HI.19980916.25837.fits ... 16.823694\n",
       " HI.19980918.24196.fits ... 16.825194\n",
       " HI.19990421.49245.fits ...   17.5081\n",
       "                    ... ...       ...\n",
       " HI.20040824.18925.fits ... 17.509944\n",
       " HI.20040825.18800.fits ... 17.510194\n",
       " HI.20041002.18948.fits ... 17.509944\n",
       " HI.20041002.19291.fits ... 17.509944\n",
       " HI.20041002.19935.fits ... 17.509944\n",
       " HI.20041002.20579.fits ... 17.509944\n",
       " HI.20050301.49856.fits ... 16.825028\n",
       " HI.20160126.56113.fits ...   16.8245\n",
       " HI.20160714.38961.fits ...  16.82319\n",
       " HI.20180702.37596.fits ...  16.82131)"
      ]
     },
     "execution_count": 99,
     "metadata": {},
     "output_type": "execute_result"
    }
   ],
   "source": [
    "results = koa.run_sync(sql)\n",
    "print, results"
   ]
  },
  {
   "cell_type": "code",
   "execution_count": 100,
   "metadata": {},
   "outputs": [],
   "source": [
    "## write to output file\n",
    "table_spatial_1=results.to_table()\n",
    "table.write ('./table_spatial_1.tbl',format='votable',overwrite=True)"
   ]
  },
  {
   "cell_type": "markdown",
   "metadata": {},
   "source": [
    "#### FAIL - no records returned; known bug"
   ]
  },
  {
   "cell_type": "markdown",
   "metadata": {},
   "source": [
    "### Test 14 - spatial_3, polygon"
   ]
  },
  {
   "cell_type": "code",
   "execution_count": 101,
   "metadata": {},
   "outputs": [],
   "source": [
    "sql=(\"select koaid, filehand, ra2000, dec2000 from koa.koa_hires_v7 where contains(point('icrs', ra2000, dec2000), polygon('icrs',209.80225,53.34894,209.80225,55.34894,211.80225,54.34894)) = 1\")"
   ]
  },
  {
   "cell_type": "code",
   "execution_count": 102,
   "metadata": {},
   "outputs": [
    {
     "data": {
      "text/plain": [
       "(<function print>, <Table length=28>\n",
       "         koaid          ...  dec2000 \n",
       "         object         ...  float64 \n",
       " ---------------------- ... ---------\n",
       " HI.20040114.51275.fits ... 54.353806\n",
       " HI.20040114.53552.fits ... 54.353806\n",
       " HI.20040114.55829.fits ... 54.353806\n",
       " HI.20040114.58182.fits ... 54.353833\n",
       " HI.20060420.33559.fits ... 54.352917\n",
       " HI.20060420.35412.fits ... 54.352917\n",
       " HI.20060420.37265.fits ... 54.352917\n",
       " HI.20060420.39117.fits ... 54.352917\n",
       " HI.20060420.41232.fits ... 54.317028\n",
       " HI.20060420.43085.fits ... 54.317028\n",
       "                    ... ...       ...\n",
       " HI.20110905.19585.fits ...  54.27675\n",
       " HI.20110909.17581.fits ...  54.27289\n",
       " HI.20110909.18064.fits ...  54.27289\n",
       " HI.20110909.18415.fits ...  54.27289\n",
       " HI.20110909.19067.fits ...  54.27289\n",
       " HI.20110909.19719.fits ...  54.27289\n",
       " HI.20110920.17641.fits ...  54.27347\n",
       " HI.20110923.18047.fits ...  54.27414\n",
       " HI.20110923.18126.fits ...  54.27414\n",
       " HI.20110923.18478.fits ...  54.27414)"
      ]
     },
     "execution_count": 102,
     "metadata": {},
     "output_type": "execute_result"
    }
   ],
   "source": [
    "results = koa.run_sync(sql)\n",
    "print, results"
   ]
  },
  {
   "cell_type": "code",
   "execution_count": 103,
   "metadata": {},
   "outputs": [],
   "source": [
    "## write to output file\n",
    "table_spatial_P=results.to_table()\n",
    "table.write ('./table_spatial_P.tbl',format='votable',overwrite=True)"
   ]
  },
  {
   "cell_type": "code",
   "execution_count": 104,
   "metadata": {},
   "outputs": [
    {
     "data": {
      "text/plain": [
       "(<function print>, <Table length=28>\n",
       "         koaid          ...  dec2000 \n",
       "         object         ...  float64 \n",
       " ---------------------- ... ---------\n",
       " HI.20040114.51275.fits ... 54.353806\n",
       " HI.20040114.53552.fits ... 54.353806\n",
       " HI.20040114.55829.fits ... 54.353806\n",
       " HI.20040114.58182.fits ... 54.353833\n",
       " HI.20060420.33559.fits ... 54.352917\n",
       " HI.20060420.35412.fits ... 54.352917\n",
       " HI.20060420.37265.fits ... 54.352917\n",
       " HI.20060420.39117.fits ... 54.352917\n",
       " HI.20060420.41232.fits ... 54.317028\n",
       " HI.20060420.43085.fits ... 54.317028\n",
       "                    ... ...       ...\n",
       " HI.20110905.19585.fits ...  54.27675\n",
       " HI.20110909.17581.fits ...  54.27289\n",
       " HI.20110909.18064.fits ...  54.27289\n",
       " HI.20110909.18415.fits ...  54.27289\n",
       " HI.20110909.19067.fits ...  54.27289\n",
       " HI.20110909.19719.fits ...  54.27289\n",
       " HI.20110920.17641.fits ...  54.27347\n",
       " HI.20110923.18047.fits ...  54.27414\n",
       " HI.20110923.18126.fits ...  54.27414\n",
       " HI.20110923.18478.fits ...  54.27414)"
      ]
     },
     "execution_count": 104,
     "metadata": {},
     "output_type": "execute_result"
    }
   ],
   "source": [
    "print, results"
   ]
  },
  {
   "cell_type": "markdown",
   "metadata": {},
   "source": [
    "#### Pass\n"
   ]
  },
  {
   "cell_type": "markdown",
   "metadata": {},
   "source": [
    "### Test 15 - count between 20090101 and 20090105, do count, ipac table format "
   ]
  },
  {
   "cell_type": "code",
   "execution_count": 105,
   "metadata": {},
   "outputs": [],
   "source": [
    "sql=(\"select count(*) from koa_hires where (utdatetime >= to_date('2009-01-01 00:00:00', 'yyyy-mm-dd HH24:MI:SS') and utdatetime <= to_date('2009-01-05 23:59:59', 'yyyy-mm-dd HH24:MI:SS'))\")"
   ]
  },
  {
   "cell_type": "code",
   "execution_count": 106,
   "metadata": {},
   "outputs": [],
   "source": [
    "results = koa.run_sync(sql)"
   ]
  },
  {
   "cell_type": "code",
   "execution_count": 107,
   "metadata": {},
   "outputs": [
    {
     "data": {
      "text/plain": [
       "(<function print>, <Table length=1>\n",
       " count(*)\n",
       "  int32  \n",
       " --------\n",
       "       61)"
      ]
     },
     "execution_count": 107,
     "metadata": {},
     "output_type": "execute_result"
    }
   ],
   "source": [
    "print,results\n"
   ]
  },
  {
   "cell_type": "markdown",
   "metadata": {},
   "source": [
    "#### Re-run and call count(*) as total\n"
   ]
  },
  {
   "cell_type": "code",
   "execution_count": 108,
   "metadata": {},
   "outputs": [],
   "source": [
    "sql=(\"select count(*) as total from koa_hires where (utdatetime >= to_date('2009-01-01 00:00:00', 'yyyy-mm-dd HH24:MI:SS') and utdatetime <= to_date('2009-01-05 23:59:59', 'yyyy-mm-dd HH24:MI:SS'))\")"
   ]
  },
  {
   "cell_type": "code",
   "execution_count": 109,
   "metadata": {},
   "outputs": [],
   "source": [
    "results = koa.run_sync(sql)"
   ]
  },
  {
   "cell_type": "code",
   "execution_count": 110,
   "metadata": {},
   "outputs": [
    {
     "data": {
      "text/plain": [
       "(<function print>, <Table length=1>\n",
       " total\n",
       " int32\n",
       " -----\n",
       "    61)"
      ]
     },
     "execution_count": 110,
     "metadata": {},
     "output_type": "execute_result"
    }
   ],
   "source": [
    "print, results"
   ]
  },
  {
   "cell_type": "markdown",
   "metadata": {},
   "source": [
    "#### Pass"
   ]
  },
  {
   "cell_type": "markdown",
   "metadata": {},
   "source": [
    "### Test 16 - full table count"
   ]
  },
  {
   "cell_type": "code",
   "execution_count": 111,
   "metadata": {},
   "outputs": [],
   "source": [
    "sql=\"select count(*) as total from koa_hires\""
   ]
  },
  {
   "cell_type": "code",
   "execution_count": 112,
   "metadata": {},
   "outputs": [],
   "source": [
    "results = koa.run_sync(sql)"
   ]
  },
  {
   "cell_type": "code",
   "execution_count": 113,
   "metadata": {},
   "outputs": [
    {
     "data": {
      "text/plain": [
       "(<function print>, <Table length=1>\n",
       " total \n",
       " int32 \n",
       " ------\n",
       " 408339)"
      ]
     },
     "execution_count": 113,
     "metadata": {},
     "output_type": "execute_result"
    }
   ],
   "source": [
    "print,results"
   ]
  },
  {
   "cell_type": "markdown",
   "metadata": {},
   "source": [
    "#### PASS"
   ]
  },
  {
   "cell_type": "markdown",
   "metadata": {},
   "source": [
    "### Test  17 - count on a keyword that does not exist"
   ]
  },
  {
   "cell_type": "code",
   "execution_count": 116,
   "metadata": {},
   "outputs": [],
   "source": [
    "sql=\"select count(DOESNOTEXIST) from koa_hires where (utdatetime >= to_date('2009-01-01 00:00:00', 'yyyy-mm-dd HH24:MI:SS') and utdatetime <= to_date('2009-01-05 23:59:59', 'yyyy-mm-dd HH24:MI:SS'))\""
   ]
  },
  {
   "cell_type": "code",
   "execution_count": 117,
   "metadata": {},
   "outputs": [],
   "source": [
    "try:\n",
    "    results = koa.run_sync(sql)\n",
    "    table   = results.to_table()\n",
    "    table.write('./select_countnokeyword.tbl',format='ascii.ipac',overwrite=True)\n",
    "    \n",
    "except Exception as e:\n",
    "    with open ('./select_countnokeyword.tbl', 'w+') as fp:\n",
    "      fp.write (f'Error: {str(e):s}')\n",
    "      fp.flush()"
   ]
  },
  {
   "cell_type": "markdown",
   "metadata": {},
   "source": [
    "### Pass - reports error message  \n"
   ]
  },
  {
   "cell_type": "code",
   "execution_count": 119,
   "metadata": {},
   "outputs": [
    {
     "name": "stdout",
     "output_type": "stream",
     "text": [
      "<Table length=408339>\n",
      "airmass\n",
      "float64\n",
      "-------\n",
      "   1.62\n",
      "   1.77\n",
      "   1.56\n",
      "   1.66\n",
      "   1.62\n",
      "   1.71\n",
      "   1.01\n",
      "   1.43\n",
      "   1.64\n",
      "   5.14\n",
      "    ...\n",
      "   1.99\n",
      "   1.99\n",
      "   1.99\n",
      "   1.99\n",
      "   1.99\n",
      "   1.99\n",
      "   1.99\n",
      "   1.99\n",
      "   1.99\n",
      "   1.99\n"
     ]
    }
   ],
   "source": [
    "sql=(\"select airmass from koa_hires\")\n",
    "\n",
    "results = koa.run_sync(sql)\n",
    "\n",
    "print(results)"
   ]
  },
  {
   "cell_type": "code",
   "execution_count": 120,
   "metadata": {},
   "outputs": [
    {
     "name": "stdout",
     "output_type": "stream",
     "text": [
      "<Table length=42>\n",
      "  echangl  \n",
      "  float64  \n",
      "-----------\n",
      " 0.00088795\n",
      "-0.00202961\n",
      "-0.00202961\n",
      "-0.00202961\n",
      "-0.00202961\n",
      "-0.00202961\n",
      "-0.00046512\n",
      " -8.457e-05\n",
      " -4.228e-05\n",
      "        0.0\n",
      "        ...\n",
      " 0.00291756\n",
      " 0.00291756\n",
      "-0.00291756\n",
      "-0.00291756\n",
      "-0.00291756\n",
      "-0.00291756\n",
      "-0.00291756\n",
      "-0.01843559\n",
      "-0.01957724\n",
      "-0.00270614\n"
     ]
    }
   ],
   "source": [
    "sql=(\"select echangl  from koa_hires where contains(point('icrs', ra2000, dec2000), circle('icrs',262.0,17.0,1.0)) = 1\")\n",
    "\n",
    "results = koa.run_sync(sql)\n",
    "\n",
    "print(results)"
   ]
  },
  {
   "cell_type": "code",
   "execution_count": null,
   "metadata": {},
   "outputs": [],
   "source": []
  }
 ],
 "metadata": {
  "kernelspec": {
   "display_name": "Python 3",
   "language": "python",
   "name": "python3"
  },
  "language_info": {
   "codemirror_mode": {
    "name": "ipython",
    "version": 3
   },
   "file_extension": ".py",
   "mimetype": "text/x-python",
   "name": "python",
   "nbconvert_exporter": "python",
   "pygments_lexer": "ipython3",
   "version": "3.6.5"
  }
 },
 "nbformat": 4,
 "nbformat_minor": 2
}
