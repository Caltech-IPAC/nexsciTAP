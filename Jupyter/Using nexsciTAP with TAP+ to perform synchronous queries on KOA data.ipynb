{
 "cells": [
  {
   "cell_type": "markdown",
   "metadata": {},
   "source": [
    "# <font color=\"#880000\"> Using the nexsciTAP Server with the TAP+ Client to Access Data From KOA In Synchronous Mode\n",
    "\n",
    "## <font color=\"#880000\"> The nexsciTAP server\n",
    "The NASA Exoplanet Science Institute (NExScI) (visit https://nexsci.caltech.edu) has developed a Python-based server to implement an API that complies with the Virtual Observatory (VO) Table Access Protocol(TAP) version 1.1 (September 2019) (http://ivoa.net/documents/TAP/20190927/index.html), a standard recommended by the International Virtual Observatory alliance (IVOA) (http://ivoa.net). \n",
    "\n",
    "The TAP API enables a rich variety of searches against tabular data, includung cone, box or all-sky searches, temporal searches, combinations of spatial searches and temporal searches, searches against instrumental attributes and program attributes. \n",
    "\n",
    "This tutorial supports demonstrates how to use the TAP+ client to perform synchronous TAP-based queries for public raw science and calibation data acquired with the HIRES instrument; these data are hosted at the Keck Observatory Archive  (KOA; https://koa.ipac.caltech.edu).\n",
    " \n",
    "#### <font color=\"#880000\"> Requirements </font> \n",
    "TAP+ was developed at the ESAC Space Data Centre (ESDC: http://www.cosmos.esa.int/web/esdc/) and can be installed from PyPI as part of the astroquery package:\n",
    "\n",
    "$ pip  install   --upgrade   astroquery\n",
    "\n",
    "The tutorial requires Python 3.6 (or above), plus the table read and write functions from Astropy.  We have tested with Astropy 4.0.1, but any version should work.  We recommend using the Ananconda Python distribution.\n",
    "\n",
    "#### <font color=\"#880000\"> A note on output records </font> \n",
    "#### The number of records returned here may differ from those returned here because new data are released daily. In synchronous mode, the TAP+ client returns the first 2,000 records returned.\n",
    "\n",
    "#### Version 1.0 (October, 2020)\n"
   ]
  },
  {
   "cell_type": "markdown",
   "metadata": {},
   "source": [
    "### Set up"
   ]
  },
  {
   "cell_type": "code",
   "execution_count": 9,
   "metadata": {},
   "outputs": [
    {
     "name": "stdout",
     "output_type": "stream",
     "text": [
      "Created TAP+ (v1.2.1) - Connection:\n",
      "\tHost: vmkoatest.ipac.caltech.edu\n",
      "\tUse HTTPS: False\n",
      "\tPort: 80\n",
      "\tSSL Port: 443\n"
     ]
    }
   ],
   "source": [
    "import numpy as np\n",
    "from astroquery.utils.tap.core import TapPlus\n",
    "\n",
    "koa = TapPlus(url=\"http://vmkoatest.ipac.caltech.edu/TAP\")\n"
   ]
  },
  {
   "cell_type": "markdown",
   "metadata": {},
   "source": [
    "### Search by date"
   ]
  },
  {
   "cell_type": "code",
   "execution_count": 35,
   "metadata": {},
   "outputs": [
    {
     "name": "stdout",
     "output_type": "stream",
     "text": [
      "        koaid                                filehand                      \n",
      "---------------------- ----------------------------------------------------\n",
      "HI.20040824.08204.fits /koadata1/HIRES/20040824/lev0/HI.20040824.08204.fits\n",
      "HI.20040824.08544.fits /koadata1/HIRES/20040824/lev0/HI.20040824.08544.fits\n",
      "HI.20040824.08591.fits /koadata1/HIRES/20040824/lev0/HI.20040824.08591.fits\n",
      "HI.20040824.08638.fits /koadata1/HIRES/20040824/lev0/HI.20040824.08638.fits\n",
      "HI.20040824.08685.fits /koadata1/HIRES/20040824/lev0/HI.20040824.08685.fits\n",
      "HI.20040824.08732.fits /koadata1/HIRES/20040824/lev0/HI.20040824.08732.fits\n",
      "HI.20040824.08779.fits /koadata1/HIRES/20040824/lev0/HI.20040824.08779.fits\n",
      "HI.20040824.08826.fits /koadata1/HIRES/20040824/lev0/HI.20040824.08826.fits\n",
      "HI.20040824.08873.fits /koadata1/HIRES/20040824/lev0/HI.20040824.08873.fits\n",
      "HI.20040824.08919.fits /koadata1/HIRES/20040824/lev0/HI.20040824.08919.fits\n",
      "                   ...                                                  ...\n",
      "HI.20040824.54756.fits /koadata1/HIRES/20040824/lev0/HI.20040824.54756.fits\n",
      "HI.20040824.54803.fits /koadata1/HIRES/20040824/lev0/HI.20040824.54803.fits\n",
      "HI.20040824.54849.fits /koadata1/HIRES/20040824/lev0/HI.20040824.54849.fits\n",
      "HI.20040824.54896.fits /koadata1/HIRES/20040824/lev0/HI.20040824.54896.fits\n",
      "HI.20040824.54944.fits /koadata1/HIRES/20040824/lev0/HI.20040824.54944.fits\n",
      "HI.20040824.54990.fits /koadata1/HIRES/20040824/lev0/HI.20040824.54990.fits\n",
      "HI.20040824.55037.fits /koadata1/HIRES/20040824/lev0/HI.20040824.55037.fits\n",
      "HI.20040824.55084.fits /koadata1/HIRES/20040824/lev0/HI.20040824.55084.fits\n",
      "HI.20040824.55131.fits /koadata1/HIRES/20040824/lev0/HI.20040824.55131.fits\n",
      "HI.20040824.55177.fits /koadata1/HIRES/20040824/lev0/HI.20040824.55177.fits\n",
      "HI.20040824.55224.fits /koadata1/HIRES/20040824/lev0/HI.20040824.55224.fits\n",
      "Length = 105 rows\n"
     ]
    }
   ],
   "source": [
    "sql = \"select koaid, filehand from koa_hires where koaid like '%20040824%' \"\n",
    "job = koa.launch_job(sql)\n",
    "r = job.get_results()\n",
    "print(r)\n"
   ]
  },
  {
   "cell_type": "markdown",
   "metadata": {
    "scrolled": true
   },
   "source": [
    "###  Write the output to the IPAC ASCII, VOtable CSV and TSV formats"
   ]
  },
  {
   "cell_type": "code",
   "execution_count": 36,
   "metadata": {},
   "outputs": [],
   "source": [
    "job = koa.launch_job(sql, dump_to_file=True, output_file='KoaTapDate1.tbl', \\\n",
    "                     output_format='ipac')\n",
    "job = koa.launch_job(sql, dump_to_file=True, output_file='KoaTapDate2.vot', \\\n",
    "                     output_format='votable')\n",
    "job = koa.launch_job(sql, dump_to_file=True, output_file='KoaTapDate3.csv', \\\n",
    "                     output_format='csv')\n",
    "job = koa.launch_job(sql, dump_to_file=True, output_file='KoaTapDate4.tsv', \\\n",
    "                     output_format='tsv')"
   ]
  },
  {
   "cell_type": "markdown",
   "metadata": {},
   "source": [
    "## Select all keywords for data acquired on UT date 20040824"
   ]
  },
  {
   "cell_type": "code",
   "execution_count": 24,
   "metadata": {},
   "outputs": [
    {
     "name": "stdout",
     "output_type": "stream",
     "text": [
      " el  elaptime equinox eramode ...      z        spt_ind      ofname    \n",
      "---- -------- ------- ------- ... ------------ --------- --------------\n",
      "45.0        1     0.0 B, G, R ... 0.7068576891 203233131 hires2300.fits\n",
      "45.0        1     0.0 B, G, R ... 0.7068576891 203233131 hires2301.fits\n",
      "45.0        1     0.0 B, G, R ... 0.7068576891 203233131 hires2302.fits\n",
      "45.0        1     0.0 B, G, R ... 0.7068576891 203233131 hires2303.fits\n",
      "45.0        1     0.0 B, G, R ... 0.7068576891 203233131 hires2304.fits\n",
      "45.0        1     0.0 B, G, R ... 0.7068576891 203233131 hires2305.fits\n",
      "45.0        1     0.0 B, G, R ... 0.7068576891 203233131 hires2306.fits\n",
      "45.0        1     0.0 B, G, R ... 0.7068576891 203233131 hires2307.fits\n",
      "45.0        1     0.0 B, G, R ... 0.7068576891 203233131 hires2308.fits\n",
      "45.0        1     0.0 B, G, R ... 0.7068576891 203233131 hires2309.fits\n",
      " ...      ...     ...     ... ...          ...       ...            ...\n",
      "0.01        1  2000.0 B, G, R ... 0.0001813223 200021201 hires2394.fits\n",
      "0.01        1  2000.0 B, G, R ... 0.0001813223 200021201 hires2395.fits\n",
      "0.01        1  2000.0 B, G, R ... 0.0001813223 200021201 hires2396.fits\n",
      "0.01        1  2000.0 B, G, R ... 0.0001813223 200021201 hires2397.fits\n",
      "0.01        1  2000.0 B, G, R ... 0.0001813223 200021201 hires2398.fits\n",
      "0.01        1  2000.0 B, G, R ... 0.0001813223 200021201 hires2399.fits\n",
      "0.01        1  2000.0 B, G, R ... 0.0001813223 200021201 hires2400.fits\n",
      "0.01        1  2000.0 B, G, R ... 0.0001813223 200021201 hires2401.fits\n",
      "0.01        1  2000.0 B, G, R ... 0.0001813223 200021201 hires2402.fits\n",
      "0.01        1  2000.0 B, G, R ... 0.0001813223 200021201 hires2403.fits\n",
      "0.01        1  2000.0 B, G, R ... 0.0001813223 200021201 hires2404.fits\n",
      "Length = 105 rows\n"
     ]
    }
   ],
   "source": [
    "sql = \"select * from koa_hires where koaid like '%20040824%'\"\n",
    "job = koa.launch_job(sql)\n",
    "r = job.get_results()\n",
    "print(r)\n",
    "\n",
    "job = koa.launch_job(sql, dump_to_file=True, output_file='table_ascii.tbl', \\\n",
    "                     output_format='ipac')"
   ]
  },
  {
   "cell_type": "markdown",
   "metadata": {},
   "source": [
    "###  Select columns acquired on UT Date 20040824 and order by signal-to-noise (sig2nois)"
   ]
  },
  {
   "cell_type": "code",
   "execution_count": 25,
   "metadata": {},
   "outputs": [
    {
     "name": "stdout",
     "output_type": "stream",
     "text": [
      "        koaid          ... sig2nois\n",
      "---------------------- ... --------\n",
      "HI.20040824.09677.fits ...      2.0\n",
      "HI.20040824.09724.fits ...      2.0\n",
      "HI.20040824.54001.fits ...      2.0\n",
      "HI.20040824.53947.fits ...      2.0\n",
      "HI.20040824.45942.fits ...      2.0\n",
      "HI.20040824.44695.fits ...      2.0\n",
      "HI.20040824.44395.fits ...      2.0\n",
      "HI.20040824.44343.fits ...      2.0\n",
      "HI.20040824.43054.fits ...      2.0\n",
      "HI.20040824.41806.fits ...      2.0\n",
      "                   ... ...      ...\n",
      "HI.20040824.09058.fits ...     11.0\n",
      "HI.20040824.09011.fits ...     11.0\n",
      "HI.20040824.08965.fits ...     11.0\n",
      "HI.20040824.08873.fits ...     11.0\n",
      "HI.20040824.09105.fits ...     11.0\n",
      "HI.20040824.08779.fits ...     11.0\n",
      "HI.20040824.08732.fits ...     11.0\n",
      "HI.20040824.08826.fits ...     11.0\n",
      "HI.20040824.08591.fits ...     11.0\n",
      "HI.20040824.08204.fits ...     11.0\n",
      "HI.20040824.08685.fits ...     15.0\n",
      "Length = 105 rows\n"
     ]
    }
   ],
   "source": [
    "sql = \"select koaid, filehand, sig2nois from koa_hires \\\n",
    "    where koaid like '%20040824%'order by sig2nois\"\n",
    "\n",
    "job = koa.launch_job(sql)\n",
    "r = job.get_results()\n",
    "print(r)\n",
    "\n",
    "job = koa.launch_job(sql, dump_to_file=True, output_file='orderbysig2nois.tbl', \\\n",
    "                     output_format='ipac')"
   ]
  },
  {
   "cell_type": "markdown",
   "metadata": {},
   "source": [
    "## Select a maximum number of records "
   ]
  },
  {
   "cell_type": "code",
   "execution_count": 27,
   "metadata": {},
   "outputs": [
    {
     "name": "stdout",
     "output_type": "stream",
     "text": [
      "        koaid          ... frameno\n",
      "---------------------- ... -------\n",
      "HI.20040824.08732.fits ...    2305\n",
      "HI.20040824.08965.fits ...    2310\n",
      "HI.20040824.09910.fits ...    2321\n",
      "HI.20040824.10096.fits ...    2325\n",
      "HI.20040824.10189.fits ...    2327\n",
      "HI.20040824.16108.fits ...    2334\n",
      "HI.20040824.16433.fits ...    2339\n",
      "HI.20040824.16480.fits ...    2340\n",
      "HI.20040824.16526.fits ...    2341\n",
      "HI.20040824.17057.fits ...    2350\n",
      "HI.20040824.18573.fits ...    2352\n",
      "HI.20040824.29673.fits ...    2362\n",
      "HI.20040824.30924.fits ...    2363\n",
      "HI.20040824.36514.fits ...    2369\n",
      "HI.20040824.44695.fits ...    2379\n",
      "HI.20040824.54207.fits ...    2385\n",
      "HI.20040824.54301.fits ...    2387\n",
      "HI.20040824.54347.fits ...    2388\n",
      "HI.20040824.54488.fits ...    2391\n",
      "HI.20040824.54896.fits ...    2397\n"
     ]
    }
   ],
   "source": [
    "sql = \"select top 20 koaid, filehand, frameno from koa_hires where koaid like '%20040824%'\"\n",
    "job = koa.launch_job(sql, dump_to_file=True, output_file='KoaTapTestFiniteRecors.tbl', output_format='ipac')\n",
    "\n",
    "job = koa.launch_job(sql)\n",
    "r = job.get_results()\n",
    "print(r)\n",
    "\n",
    "job = koa.launch_job(sql, dump_to_file=True, output_file='top20.tbl', \\\n",
    "                     output_format='ipac')"
   ]
  },
  {
   "cell_type": "markdown",
   "metadata": {},
   "source": [
    "## Select columns and search by date range"
   ]
  },
  {
   "cell_type": "code",
   "execution_count": 28,
   "metadata": {},
   "outputs": [
    {
     "name": "stdout",
     "output_type": "stream",
     "text": [
      "        koaid                                filehand                      \n",
      "---------------------- ----------------------------------------------------\n",
      "HI.20090101.09133.fits /koadata4/HIRES/20090101/lev0/HI.20090101.09133.fits\n",
      "HI.20090101.09658.fits /koadata4/HIRES/20090101/lev0/HI.20090101.09658.fits\n",
      "HI.20090101.09784.fits /koadata4/HIRES/20090101/lev0/HI.20090101.09784.fits\n",
      "HI.20090104.02004.fits /koadata4/HIRES/20090104/lev0/HI.20090104.02004.fits\n",
      "HI.20090104.02222.fits /koadata4/HIRES/20090104/lev0/HI.20090104.02222.fits\n",
      "HI.20090104.02477.fits /koadata4/HIRES/20090104/lev0/HI.20090104.02477.fits\n",
      "HI.20090105.04559.fits /koadata4/HIRES/20090105/lev0/HI.20090105.04559.fits\n",
      "HI.20090105.05148.fits /koadata4/HIRES/20090105/lev0/HI.20090105.05148.fits\n",
      "HI.20090105.06188.fits /koadata4/HIRES/20090105/lev0/HI.20090105.06188.fits\n",
      "HI.20090105.08445.fits /koadata4/HIRES/20090105/lev0/HI.20090105.08445.fits\n",
      "                   ...                                                  ...\n",
      "HI.20090105.10541.fits /koadata4/HIRES/20090105/lev0/HI.20090105.10541.fits\n",
      "HI.20090105.10587.fits /koadata4/HIRES/20090105/lev0/HI.20090105.10587.fits\n",
      "HI.20090105.10632.fits /koadata4/HIRES/20090105/lev0/HI.20090105.10632.fits\n",
      "HI.20090105.10678.fits /koadata4/HIRES/20090105/lev0/HI.20090105.10678.fits\n",
      "HI.20090105.10724.fits /koadata4/HIRES/20090105/lev0/HI.20090105.10724.fits\n",
      "HI.20090105.10770.fits /koadata4/HIRES/20090105/lev0/HI.20090105.10770.fits\n",
      "HI.20090105.10816.fits /koadata4/HIRES/20090105/lev0/HI.20090105.10816.fits\n",
      "HI.20090105.10862.fits /koadata4/HIRES/20090105/lev0/HI.20090105.10862.fits\n",
      "HI.20090105.10908.fits /koadata4/HIRES/20090105/lev0/HI.20090105.10908.fits\n",
      "HI.20090105.10954.fits /koadata4/HIRES/20090105/lev0/HI.20090105.10954.fits\n",
      "HI.20090105.11000.fits /koadata4/HIRES/20090105/lev0/HI.20090105.11000.fits\n",
      "Length = 61 rows\n"
     ]
    }
   ],
   "source": [
    "sql=\"select koaid, filehand from koa_hires \\\n",
    "     where (utdatetime >= to_date('2009-01-01 00:00:00', \\\n",
    "    'yyyy-mm-dd HH24:MI:SS') and \\\n",
    "     utdatetime <= to_date('2009-01-05 23:59:59', 'yyyy-mm-dd HH24:MI:SS'))\"\n",
    "\n",
    "job = koa.launch_job(sql)\n",
    "r = job.get_results()\n",
    "print(r)\n",
    "\n",
    "job = koa.launch_job(sql, dump_to_file=True, output_file='date_range.tbl', \\\n",
    "                     output_format='ipac')"
   ]
  },
  {
   "cell_type": "markdown",
   "metadata": {},
   "source": [
    "## Search by program ID"
   ]
  },
  {
   "cell_type": "code",
   "execution_count": 29,
   "metadata": {},
   "outputs": [
    {
     "name": "stdout",
     "output_type": "stream",
     "text": [
      "        koaid          ... imagetyp\n",
      "---------------------- ... --------\n",
      "HI.20180331.02525.fits ...    focus\n",
      "HI.20180331.03342.fits ...    focus\n",
      "HI.20180331.03598.fits ...    focus\n",
      "HI.20180331.03786.fits ...    focus\n",
      "HI.20180331.03943.fits ...    focus\n",
      "HI.20180331.04060.fits ...    focus\n",
      "HI.20180331.04218.fits ...    focus\n",
      "HI.20180331.04338.fits ...    focus\n",
      "HI.20180331.04502.fits ...  arclamp\n",
      "HI.20180331.04578.fits ...  arclamp\n",
      "                   ... ...      ...\n",
      "HI.20180801.44904.fits ...   object\n",
      "HI.20180801.45058.fits ...   object\n",
      "HI.20180801.45222.fits ...   object\n",
      "HI.20180801.45356.fits ...   object\n",
      "HI.20180801.45644.fits ...   object\n",
      "HI.20180801.45867.fits ...   object\n",
      "HI.20180801.45945.fits ...   object\n",
      "HI.20180801.46157.fits ... flatlamp\n",
      "HI.20180801.46246.fits ... flatlamp\n",
      "HI.20180801.46399.fits ...  arclamp\n",
      "HI.20180801.46463.fits ...  arclamp\n",
      "Length = 538 rows\n"
     ]
    }
   ],
   "source": [
    "sql=\"select koaid, filehand, progid, iodin, imagetyp from \\\n",
    "      koa.koa_hires_v7 where progid = 'C307'\"\n",
    "\n",
    "job = koa.launch_job(sql)\n",
    "r = job.get_results()\n",
    "print(r)\n",
    "\n",
    "job = koa.launch_job(sql, dump_to_file=True, output_file='progID.txt', \\\n",
    "                     output_format='ipac')"
   ]
  },
  {
   "cell_type": "markdown",
   "metadata": {},
   "source": [
    "\n",
    "##  Spatial cone search "
   ]
  },
  {
   "cell_type": "code",
   "execution_count": 30,
   "metadata": {},
   "outputs": [
    {
     "name": "stdout",
     "output_type": "stream",
     "text": [
      "        koaid          ...  dec2000 \n",
      "---------------------- ... ---------\n",
      "HI.19980718.34975.fits ... 16.827111\n",
      "HI.19980912.26279.fits ... 16.824889\n",
      "HI.19980913.27523.fits ... 16.822694\n",
      "HI.19980914.23928.fits ... 16.821861\n",
      "HI.19980914.24204.fits ... 16.821861\n",
      "HI.19980914.29108.fits ... 16.822222\n",
      "HI.19980915.26653.fits ...   16.8225\n",
      "HI.19980916.25837.fits ... 16.823694\n",
      "HI.19980918.24196.fits ... 16.825194\n",
      "HI.19990421.49245.fits ...   17.5081\n",
      "                   ... ...       ...\n",
      "HI.20040824.18573.fits ... 17.509944\n",
      "HI.20040824.18925.fits ... 17.509944\n",
      "HI.20040825.18800.fits ... 17.510194\n",
      "HI.20041002.18948.fits ... 17.509944\n",
      "HI.20041002.19291.fits ... 17.509944\n",
      "HI.20041002.19935.fits ... 17.509944\n",
      "HI.20041002.20579.fits ... 17.509944\n",
      "HI.20050301.49856.fits ... 16.825028\n",
      "HI.20160126.56113.fits ...   16.8245\n",
      "HI.20160714.38961.fits ...  16.82319\n",
      "HI.20180702.37596.fits ...  16.82131\n",
      "Length = 42 rows\n"
     ]
    }
   ],
   "source": [
    "sql=(\"select koaid, filehand, ra2000, dec2000 from koa_hires where \\\n",
    "    contains(point('icrs', ra2000, dec2000), \\\n",
    "    circle('icrs',262.0,17.0,1.0)) = 1\")\n",
    "\n",
    "job = koa.launch_job(sql)\n",
    "r = job.get_results()\n",
    "print(r)\n",
    "\n",
    "job = koa.launch_job(sql, dump_to_file=True, output_file='Spatial_cone.txt', \\\n",
    "                     output_format='ipac')"
   ]
  },
  {
   "cell_type": "markdown",
   "metadata": {},
   "source": [
    "##  Spatial box search "
   ]
  },
  {
   "cell_type": "code",
   "execution_count": 31,
   "metadata": {},
   "outputs": [
    {
     "name": "stdout",
     "output_type": "stream",
     "text": [
      "        koaid          ...  dec2000  \n",
      "---------------------- ... ----------\n",
      "HI.19941214.78458.fits ...  29.922813\n",
      "HI.19950716.29399.fits ... -37.293839\n",
      "HI.19950716.29658.fits ... -37.293839\n",
      "HI.19950716.29859.fits ... -37.293839\n",
      "HI.19950716.30097.fits ... -37.293839\n",
      "HI.19951129.15228.fits ...       25.0\n",
      "HI.19951129.15327.fits ...       25.0\n",
      "HI.19960523.16106.fits ...    5.33211\n",
      "HI.19960523.16363.fits ...    5.33211\n",
      "HI.19960523.16460.fits ...    5.33211\n",
      "                   ... ...        ...\n",
      "HI.20180830.30652.fits ...   66.69553\n",
      "HI.20180830.30875.fits ...   66.69553\n",
      "HI.20180830.31040.fits ...   66.69553\n",
      "HI.20180830.31309.fits ...   66.69553\n",
      "HI.20180830.31509.fits ...   66.69553\n",
      "HI.20180830.31632.fits ...   66.69553\n",
      "HI.20180923.20972.fits ...   27.28369\n",
      "HI.20180928.20868.fits ...   52.79058\n",
      "HI.20180929.18460.fits ...   52.79053\n",
      "HI.20190125.58818.fits ...   47.40228\n",
      "HI.20190125.58982.fits ...   34.27144\n",
      "Length = 994 rows\n"
     ]
    }
   ],
   "source": [
    "\n",
    "sql=(\"select koaid, filehand, ra2000, dec2000 from koa_hires where \\\n",
    "     contains(point('icrs', ra2000, dec2000), \\\n",
    "     box('icrs',262.0,17.0,2.0,120)) = 1\")\n",
    "\n",
    "job = koa.launch_job(sql)\n",
    "r = job.get_results()\n",
    "print(r)\n",
    "\n",
    "job = koa.launch_job(sql, dump_to_file=True, output_file='SpatBox.txt', output_format='ipac')"
   ]
  },
  {
   "cell_type": "markdown",
   "metadata": {},
   "source": [
    "\n",
    "## Spatial polygon search \n"
   ]
  },
  {
   "cell_type": "code",
   "execution_count": 32,
   "metadata": {},
   "outputs": [
    {
     "name": "stdout",
     "output_type": "stream",
     "text": [
      "        koaid          ...  dec2000 \n",
      "---------------------- ... ---------\n",
      "HI.20040114.51275.fits ... 54.353806\n",
      "HI.20040114.53552.fits ... 54.353806\n",
      "HI.20040114.55829.fits ... 54.353806\n",
      "HI.20040114.58182.fits ... 54.353833\n",
      "HI.20060420.33559.fits ... 54.352917\n",
      "HI.20060420.35412.fits ... 54.352917\n",
      "HI.20060420.37265.fits ... 54.352917\n",
      "HI.20060420.39117.fits ... 54.352917\n",
      "HI.20060420.41232.fits ... 54.317028\n",
      "HI.20060420.43085.fits ... 54.317028\n",
      "                   ... ...       ...\n",
      "HI.20110903.19681.fits ...  54.27442\n",
      "HI.20110905.19585.fits ...  54.27675\n",
      "HI.20110909.17581.fits ...  54.27289\n",
      "HI.20110909.18064.fits ...  54.27289\n",
      "HI.20110909.18415.fits ...  54.27289\n",
      "HI.20110909.19067.fits ...  54.27289\n",
      "HI.20110909.19719.fits ...  54.27289\n",
      "HI.20110920.17641.fits ...  54.27347\n",
      "HI.20110923.18047.fits ...  54.27414\n",
      "HI.20110923.18126.fits ...  54.27414\n",
      "HI.20110923.18478.fits ...  54.27414\n",
      "Length = 28 rows\n"
     ]
    }
   ],
   "source": [
    "sql=(\"select koaid, filehand, ra2000, dec2000 from koa.koa_hires_v7 where \\\n",
    "    contains(point('icrs', ra2000, dec2000), \\\n",
    "    polygon('icrs',209.80225,53.34894,209.80225,55.34894,211.80225,54.34894)) = 1\")\n",
    "\n",
    "job = koa.launch_job(sql)\n",
    "r = job.get_results()\n",
    "print(r)\n",
    "\n",
    "job = koa.launch_job(sql, dump_to_file=True, output_file='SpatPoly.txt', \\\n",
    "                       output_format='ipac')"
   ]
  },
  {
   "cell_type": "markdown",
   "metadata": {},
   "source": [
    "\n",
    "## Count number of records in date range"
   ]
  },
  {
   "cell_type": "code",
   "execution_count": 33,
   "metadata": {},
   "outputs": [
    {
     "name": "stdout",
     "output_type": "stream",
     "text": [
      "count(*)\n",
      "--------\n",
      "      61\n"
     ]
    }
   ],
   "source": [
    "sql=(\"select count(*) from koa_hires where \\\n",
    "    (utdatetime >= to_date('2009-01-01 00:00:00', 'yyyy-mm-dd HH24:MI:SS') and \\\n",
    "     utdatetime <= to_date('2009-01-05 23:59:59', 'yyyy-mm-dd HH24:MI:SS'))\"  )\n",
    "\n",
    "job = koa.launch_job(sql)\n",
    "r = job.get_results()\n",
    "print(r)"
   ]
  },
  {
   "cell_type": "markdown",
   "metadata": {},
   "source": [
    " ## Count total number of records in table"
   ]
  },
  {
   "cell_type": "code",
   "execution_count": 34,
   "metadata": {},
   "outputs": [
    {
     "name": "stdout",
     "output_type": "stream",
     "text": [
      "total\n",
      "-----\n",
      " 2000\n"
     ]
    }
   ],
   "source": [
    "sql=\"select count(*) as total from koa_hires\"\n",
    "\n",
    "job = koa.launch_job(sql)\n",
    "r = job.get_results()\n",
    "print(r)"
   ]
  },
  {
   "cell_type": "markdown",
   "metadata": {},
   "source": [
    "### Note:  There are 408,492 records that satisfy this query, but TAP+ only returns the first 2,000"
   ]
  },
  {
   "cell_type": "markdown",
   "metadata": {},
   "source": [
    "-----------------\n",
    "\n",
    "<font color=\"#480000\">Visit KOA at https://koa.ipac.caltech.edu.  \n",
    "\n",
    "<font color=\"#480000\"> The Keck Observatory Archive (KOA) is a collaboration between the NASA Exoplanet Science Institute (NExScI) and the W. M. Keck Observatory (WMKO). NExScI is sponsored by NASA's Exoplanet Exploration Program, and operated by the California Institute of Technology in coordination with the Jet Propulsion Laboratory (JPL).\n",
    "\n",
    "    \n",
    "<font color=\"#480000\"> Need help? Submit your questions to the KOA Help Desk at https://koa.ipac.caltech.edu/cgi-bin/Helpdesk/nph-genTicketForm?projname=KOA"
   ]
  },
  {
   "cell_type": "code",
   "execution_count": null,
   "metadata": {},
   "outputs": [],
   "source": []
  }
 ],
 "metadata": {
  "kernelspec": {
   "display_name": "Python 3",
   "language": "python",
   "name": "python3"
  },
  "language_info": {
   "codemirror_mode": {
    "name": "ipython",
    "version": 3
   },
   "file_extension": ".py",
   "mimetype": "text/x-python",
   "name": "python",
   "nbconvert_exporter": "python",
   "pygments_lexer": "ipython3",
   "version": "3.6.5"
  }
 },
 "nbformat": 4,
 "nbformat_minor": 2
}
