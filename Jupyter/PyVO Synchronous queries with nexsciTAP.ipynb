{
 "cells": [
  {
   "cell_type": "markdown",
   "metadata": {},
   "source": [
    "# <font color=\"#880000\"> Using the nexsciTAP Server with the PyVO Client to Access Data From KOA In Synchronous Mode\n",
    "\n",
    "## <font color=\"#880000\"> The nexsciTAP server\n",
    "The NASA Exoplanet Science Institute (NExScI) (visit https://nexsci.caltech.edu) has developed a Python-based server to implement an API that complies with the Virtual Observatory (VO) Table Access Protocol(TAP) version 1.1 (September 2019) (http://ivoa.net/documents/TAP/20190927/index.html), a standard recommended by the International Virtual Observatory alliance (IVOA) (http://ivoa.net). \n",
    "\n",
    "The TAP API enables a rich variety of searches against tabular data, includung cone, box or all-sky searches, temporal searches, combinations of spatial searches and temporal searches, searches against instrumental attributes and program attributes. \n",
    "\n",
    "This tutorial supports demonstrates how to use the PyVO client to perform synchronous TAP-based queries for public raw science and calibation data acquired with the HIRES instrument; these data are hosted at the Keck Observatory Archive  (KOA; https://koa.ipac.caltech.edu).\n",
    " \n",
    "#### <font color=\"#880000\"> Requirements </font> \n",
    "This tutorial uses PyVO version 1.1.1, and can be installed from PyPI:\n",
    "\n",
    "$ pip  install   --upgrade   PyVO\n",
    "\n",
    "The tutorial requires Python 3.6 (or above), plus the table read and write functions from Astropy.  We have tested with Astropy 4.0.1, but any version should work.  We recommend using the Ananconda Python distribution.\n",
    "\n",
    "#### <font color=\"#880000\"> A note on output records </font> \n",
    "The number of records returned here may differ from those returned here because new data are released daily.\n",
    "\n",
    "#### Version 1.0 (October, 2020)\n"
   ]
  },
  {
   "cell_type": "markdown",
   "metadata": {},
   "source": [
    "### Set up"
   ]
  },
  {
   "cell_type": "code",
   "execution_count": 2,
   "metadata": {},
   "outputs": [],
   "source": [
    "from pyvo.dal import tap \n",
    "koa = tap.TAPService(\"https://koa.ipac.caltech.edu/TAP\")\n",
    "import time"
   ]
  },
  {
   "cell_type": "markdown",
   "metadata": {},
   "source": [
    "### Query by date"
   ]
  },
  {
   "cell_type": "code",
   "execution_count": 3,
   "metadata": {},
   "outputs": [
    {
     "name": "stdout",
     "output_type": "stream",
     "text": [
      "<Table length=105>\n",
      "        koaid                                filehand                      \n",
      "        object                                object                       \n",
      "---------------------- ----------------------------------------------------\n",
      "HI.20040824.08204.fits /koadata1/HIRES/20040824/lev0/HI.20040824.08204.fits\n",
      "HI.20040824.08544.fits /koadata1/HIRES/20040824/lev0/HI.20040824.08544.fits\n",
      "HI.20040824.08591.fits /koadata1/HIRES/20040824/lev0/HI.20040824.08591.fits\n",
      "HI.20040824.08638.fits /koadata1/HIRES/20040824/lev0/HI.20040824.08638.fits\n",
      "HI.20040824.08685.fits /koadata1/HIRES/20040824/lev0/HI.20040824.08685.fits\n",
      "HI.20040824.08732.fits /koadata1/HIRES/20040824/lev0/HI.20040824.08732.fits\n",
      "HI.20040824.08779.fits /koadata1/HIRES/20040824/lev0/HI.20040824.08779.fits\n",
      "HI.20040824.08826.fits /koadata1/HIRES/20040824/lev0/HI.20040824.08826.fits\n",
      "HI.20040824.08873.fits /koadata1/HIRES/20040824/lev0/HI.20040824.08873.fits\n",
      "HI.20040824.08919.fits /koadata1/HIRES/20040824/lev0/HI.20040824.08919.fits\n",
      "                   ...                                                  ...\n",
      "HI.20040824.54803.fits /koadata1/HIRES/20040824/lev0/HI.20040824.54803.fits\n",
      "HI.20040824.54849.fits /koadata1/HIRES/20040824/lev0/HI.20040824.54849.fits\n",
      "HI.20040824.54896.fits /koadata1/HIRES/20040824/lev0/HI.20040824.54896.fits\n",
      "HI.20040824.54944.fits /koadata1/HIRES/20040824/lev0/HI.20040824.54944.fits\n",
      "HI.20040824.54990.fits /koadata1/HIRES/20040824/lev0/HI.20040824.54990.fits\n",
      "HI.20040824.55037.fits /koadata1/HIRES/20040824/lev0/HI.20040824.55037.fits\n",
      "HI.20040824.55084.fits /koadata1/HIRES/20040824/lev0/HI.20040824.55084.fits\n",
      "HI.20040824.55131.fits /koadata1/HIRES/20040824/lev0/HI.20040824.55131.fits\n",
      "HI.20040824.55177.fits /koadata1/HIRES/20040824/lev0/HI.20040824.55177.fits\n",
      "HI.20040824.55224.fits /koadata1/HIRES/20040824/lev0/HI.20040824.55224.fits\n"
     ]
    }
   ],
   "source": [
    "sql = \"select koaid, filehand from koa_hires where koaid like '%20040824%'\"\n",
    "results= koa.run_sync(sql)\n",
    "print(results)\n",
    "\n",
    "\n",
    "# write results to VOTable format\n",
    "table=results.to_table()\n",
    "table.write ('./table_ipacascii.vot',format='ascii.ipac',overwrite=True)"
   ]
  },
  {
   "cell_type": "markdown",
   "metadata": {},
   "source": [
    "#### PyVO by default returns results in VOTable format. Convert them to IPAC ASCII and CSV format."
   ]
  },
  {
   "cell_type": "code",
   "execution_count": 7,
   "metadata": {},
   "outputs": [],
   "source": [
    "# write results to an IPAC ASCII table\n",
    "sql = \"select koaid, filehand from koa_hires where koaid like '%20040824%' \"\n",
    "results = koa.run_sync(sql)\n",
    "table=results.to_table()\n",
    "table.write ('./table_ipacascii.tbl',format='ascii.ipac',overwrite=True)"
   ]
  },
  {
   "cell_type": "code",
   "execution_count": 8,
   "metadata": {},
   "outputs": [],
   "source": [
    "#  write results to CSV file\n",
    "sql = \"select koaid, filehand from koa_hires where koaid like '%20040824%' \"\n",
    "results = koa.run_sync(sql)\n",
    "table=results.to_table()\n",
    "table.write ('./table_csv.csv',format='csv', overwrite=True)"
   ]
  },
  {
   "cell_type": "markdown",
   "metadata": {},
   "source": [
    "### Select all keywords for data acquired on UT Date 20040824"
   ]
  },
  {
   "cell_type": "code",
   "execution_count": 9,
   "metadata": {},
   "outputs": [
    {
     "name": "stdout",
     "output_type": "stream",
     "text": [
      "<Table length=105>\n",
      "   el   elaptime equinox eramode ...      z        spt_ind      ofname    \n",
      "float64  int32   float64  object ...   float64      int32       object    \n",
      "------- -------- ------- ------- ... ------------ --------- --------------\n",
      "   45.0        1     0.0 B, G, R ... 0.7068576891 203233131 hires2300.fits\n",
      "   45.0        1     0.0 B, G, R ... 0.7068576891 203233131 hires2301.fits\n",
      "   45.0        1     0.0 B, G, R ... 0.7068576891 203233131 hires2302.fits\n",
      "   45.0        1     0.0 B, G, R ... 0.7068576891 203233131 hires2303.fits\n",
      "   45.0        1     0.0 B, G, R ... 0.7068576891 203233131 hires2304.fits\n",
      "   45.0        1     0.0 B, G, R ... 0.7068576891 203233131 hires2305.fits\n",
      "   45.0        1     0.0 B, G, R ... 0.7068576891 203233131 hires2306.fits\n",
      "   45.0        1     0.0 B, G, R ... 0.7068576891 203233131 hires2307.fits\n",
      "   45.0        1     0.0 B, G, R ... 0.7068576891 203233131 hires2308.fits\n",
      "   45.0        1     0.0 B, G, R ... 0.7068576891 203233131 hires2309.fits\n",
      "    ...      ...     ...     ... ...          ...       ...            ...\n",
      "   0.01        1  2000.0 B, G, R ... 0.0001813223 200021201 hires2395.fits\n",
      "   0.01        1  2000.0 B, G, R ... 0.0001813223 200021201 hires2396.fits\n",
      "   0.01        1  2000.0 B, G, R ... 0.0001813223 200021201 hires2397.fits\n",
      "   0.01        1  2000.0 B, G, R ... 0.0001813223 200021201 hires2398.fits\n",
      "   0.01        1  2000.0 B, G, R ... 0.0001813223 200021201 hires2399.fits\n",
      "   0.01        1  2000.0 B, G, R ... 0.0001813223 200021201 hires2400.fits\n",
      "   0.01        1  2000.0 B, G, R ... 0.0001813223 200021201 hires2401.fits\n",
      "   0.01        1  2000.0 B, G, R ... 0.0001813223 200021201 hires2402.fits\n",
      "   0.01        1  2000.0 B, G, R ... 0.0001813223 200021201 hires2403.fits\n",
      "   0.01        1  2000.0 B, G, R ... 0.0001813223 200021201 hires2404.fits\n"
     ]
    }
   ],
   "source": [
    "sql = \"select * from koa_hires where koaid like '%20040824%' \"\n",
    "results = koa.run_sync(sql)\n",
    "print (results)\n",
    "\n",
    "## write to an output file\n",
    "table_selectall=results.to_table()\n",
    "table_selectall.write ('./table_selectall.vot',format='votable',overwrite=True)"
   ]
  },
  {
   "cell_type": "markdown",
   "metadata": {},
   "source": [
    "###  Select columns acquired UT Date 20040824 and order by signal-to-noise (sig2nois)\n"
   ]
  },
  {
   "cell_type": "code",
   "execution_count": 4,
   "metadata": {},
   "outputs": [
    {
     "name": "stdout",
     "output_type": "stream",
     "text": [
      "<Table length=105>\n",
      "        koaid          ... sig2nois\n",
      "        object         ... float64 \n",
      "---------------------- ... --------\n",
      "HI.20040824.09677.fits ...      2.0\n",
      "HI.20040824.09724.fits ...      2.0\n",
      "HI.20040824.54001.fits ...      2.0\n",
      "HI.20040824.53947.fits ...      2.0\n",
      "HI.20040824.45942.fits ...      2.0\n",
      "HI.20040824.44695.fits ...      2.0\n",
      "HI.20040824.44395.fits ...      2.0\n",
      "HI.20040824.44343.fits ...      2.0\n",
      "HI.20040824.43054.fits ...      2.0\n",
      "HI.20040824.41806.fits ...      2.0\n",
      "                   ... ...      ...\n",
      "HI.20040824.09011.fits ...     11.0\n",
      "HI.20040824.08965.fits ...     11.0\n",
      "HI.20040824.08873.fits ...     11.0\n",
      "HI.20040824.09105.fits ...     11.0\n",
      "HI.20040824.08779.fits ...     11.0\n",
      "HI.20040824.08732.fits ...     11.0\n",
      "HI.20040824.08826.fits ...     11.0\n",
      "HI.20040824.08591.fits ...     11.0\n",
      "HI.20040824.08204.fits ...     11.0\n",
      "HI.20040824.08685.fits ...     15.0\n"
     ]
    }
   ],
   "source": [
    "sql = \"select koaid, filehand, sig2nois from koa_hires \\\n",
    "    where koaid like '%20040824%'order by sig2nois\"\n",
    "results = koa.run_sync(sql)\n",
    "print (results)\n",
    "\n",
    "table   = results.to_table()\n",
    "table.write('./select_orderdoesnot.vot',format='ascii.ipac',overwrite=True)\n"
   ]
  },
  {
   "cell_type": "markdown",
   "metadata": {},
   "source": [
    "### Select a maximum number of records "
   ]
  },
  {
   "cell_type": "code",
   "execution_count": 12,
   "metadata": {},
   "outputs": [
    {
     "name": "stdout",
     "output_type": "stream",
     "text": [
      "<Table length=20>\n",
      "        koaid          ... frameno\n",
      "        object         ...  int32 \n",
      "---------------------- ... -------\n",
      "HI.20040824.08204.fits ...    2300\n",
      "HI.20040824.08544.fits ...    2301\n",
      "HI.20040824.08591.fits ...    2302\n",
      "HI.20040824.08638.fits ...    2303\n",
      "HI.20040824.08685.fits ...    2304\n",
      "HI.20040824.08732.fits ...    2305\n",
      "HI.20040824.08779.fits ...    2306\n",
      "HI.20040824.08826.fits ...    2307\n",
      "HI.20040824.08873.fits ...    2308\n",
      "HI.20040824.08919.fits ...    2309\n",
      "HI.20040824.08965.fits ...    2310\n",
      "HI.20040824.09011.fits ...    2311\n",
      "HI.20040824.09058.fits ...    2312\n",
      "HI.20040824.09105.fits ...    2313\n",
      "HI.20040824.09152.fits ...    2314\n",
      "HI.20040824.09198.fits ...    2315\n",
      "HI.20040824.09677.fits ...    2316\n",
      "HI.20040824.09724.fits ...    2317\n",
      "HI.20040824.09770.fits ...    2318\n",
      "HI.20040824.09817.fits ...    2319\n"
     ]
    }
   ],
   "source": [
    "sql=\"select koaid, filehand, frameno from koa_hires \\\n",
    "    where koaid like '%20040824%'\"\n",
    "results = koa.run_sync(sql, maxrec=20)\n",
    "print (results)\n",
    "\n",
    "table   = results.to_table()\n",
    "table.write('./select_maxrec.tbl',format='ascii.ipac',overwrite=True)\n"
   ]
  },
  {
   "cell_type": "markdown",
   "metadata": {},
   "source": [
    "###  Select records by time range"
   ]
  },
  {
   "cell_type": "code",
   "execution_count": 13,
   "metadata": {},
   "outputs": [
    {
     "name": "stdout",
     "output_type": "stream",
     "text": [
      "<Table length=61>\n",
      "        koaid                                filehand                      \n",
      "        object                                object                       \n",
      "---------------------- ----------------------------------------------------\n",
      "HI.20090101.09133.fits /koadata4/HIRES/20090101/lev0/HI.20090101.09133.fits\n",
      "HI.20090101.09658.fits /koadata4/HIRES/20090101/lev0/HI.20090101.09658.fits\n",
      "HI.20090101.09784.fits /koadata4/HIRES/20090101/lev0/HI.20090101.09784.fits\n",
      "HI.20090104.02004.fits /koadata4/HIRES/20090104/lev0/HI.20090104.02004.fits\n",
      "HI.20090104.02222.fits /koadata4/HIRES/20090104/lev0/HI.20090104.02222.fits\n",
      "HI.20090104.02477.fits /koadata4/HIRES/20090104/lev0/HI.20090104.02477.fits\n",
      "HI.20090105.04559.fits /koadata4/HIRES/20090105/lev0/HI.20090105.04559.fits\n",
      "HI.20090105.05148.fits /koadata4/HIRES/20090105/lev0/HI.20090105.05148.fits\n",
      "HI.20090105.06188.fits /koadata4/HIRES/20090105/lev0/HI.20090105.06188.fits\n",
      "HI.20090105.08445.fits /koadata4/HIRES/20090105/lev0/HI.20090105.08445.fits\n",
      "                   ...                                                  ...\n",
      "HI.20090105.10587.fits /koadata4/HIRES/20090105/lev0/HI.20090105.10587.fits\n",
      "HI.20090105.10632.fits /koadata4/HIRES/20090105/lev0/HI.20090105.10632.fits\n",
      "HI.20090105.10678.fits /koadata4/HIRES/20090105/lev0/HI.20090105.10678.fits\n",
      "HI.20090105.10724.fits /koadata4/HIRES/20090105/lev0/HI.20090105.10724.fits\n",
      "HI.20090105.10770.fits /koadata4/HIRES/20090105/lev0/HI.20090105.10770.fits\n",
      "HI.20090105.10816.fits /koadata4/HIRES/20090105/lev0/HI.20090105.10816.fits\n",
      "HI.20090105.10862.fits /koadata4/HIRES/20090105/lev0/HI.20090105.10862.fits\n",
      "HI.20090105.10908.fits /koadata4/HIRES/20090105/lev0/HI.20090105.10908.fits\n",
      "HI.20090105.10954.fits /koadata4/HIRES/20090105/lev0/HI.20090105.10954.fits\n",
      "HI.20090105.11000.fits /koadata4/HIRES/20090105/lev0/HI.20090105.11000.fits\n"
     ]
    }
   ],
   "source": [
    "sql=\"select koaid, filehand from koa_hires \\\n",
    "     where (utdatetime >= to_date('2009-01-01 00:00:00', \\\n",
    "    'yyyy-mm-dd HH24:MI:SS') and \\\n",
    "     utdatetime <= to_date('2009-01-05 23:59:59', 'yyyy-mm-dd HH24:MI:SS'))\"\n",
    "results  = koa.run_sync(sql)\n",
    "\n",
    "print (results)\n",
    "\n",
    "table_daterange=results.to_table()\n",
    "table.write ('./table_daterange.vot',format='votable',overwrite=True)\n",
    "\n"
   ]
  },
  {
   "cell_type": "markdown",
   "metadata": {},
   "source": [
    "### Select records by program ID"
   ]
  },
  {
   "cell_type": "code",
   "execution_count": 14,
   "metadata": {},
   "outputs": [
    {
     "name": "stdout",
     "output_type": "stream",
     "text": [
      "<Table length=538>\n",
      "        koaid          ... imagetyp\n",
      "        object         ...  object \n",
      "---------------------- ... --------\n",
      "HI.20180331.02525.fits ...    focus\n",
      "HI.20180331.03342.fits ...    focus\n",
      "HI.20180331.03598.fits ...    focus\n",
      "HI.20180331.03786.fits ...    focus\n",
      "HI.20180331.03943.fits ...    focus\n",
      "HI.20180331.04060.fits ...    focus\n",
      "HI.20180331.04218.fits ...    focus\n",
      "HI.20180331.04338.fits ...    focus\n",
      "HI.20180331.04502.fits ...  arclamp\n",
      "HI.20180331.04578.fits ...  arclamp\n",
      "                   ... ...      ...\n",
      "HI.20180801.45058.fits ...   object\n",
      "HI.20180801.45222.fits ...   object\n",
      "HI.20180801.45356.fits ...   object\n",
      "HI.20180801.45644.fits ...   object\n",
      "HI.20180801.45867.fits ...   object\n",
      "HI.20180801.45945.fits ...   object\n",
      "HI.20180801.46157.fits ... flatlamp\n",
      "HI.20180801.46246.fits ... flatlamp\n",
      "HI.20180801.46399.fits ...  arclamp\n",
      "HI.20180801.46463.fits ...  arclamp\n"
     ]
    }
   ],
   "source": [
    "sql= (\"select koaid, filehand, progid, iodin, imagetyp \\\n",
    "      from koa_hires where (progid = 'C307') \")\n",
    "results  = koa.run_sync(sql)\n",
    "print (results)\n",
    "\n",
    "table_progid=results.to_table()\n",
    "table.write ('./progid.vot',format='votable',overwrite=True)\n"
   ]
  },
  {
   "cell_type": "markdown",
   "metadata": {},
   "source": [
    "###  Spatial cone search  with column selection"
   ]
  },
  {
   "cell_type": "code",
   "execution_count": 15,
   "metadata": {},
   "outputs": [
    {
     "name": "stdout",
     "output_type": "stream",
     "text": [
      "<Table length=42>\n",
      "        koaid          ...  dec2000 \n",
      "        object         ...  float64 \n",
      "---------------------- ... ---------\n",
      "HI.19980718.34975.fits ... 16.827111\n",
      "HI.19980912.26279.fits ... 16.824889\n",
      "HI.19980913.27523.fits ... 16.822694\n",
      "HI.19980914.23928.fits ... 16.821861\n",
      "HI.19980914.24204.fits ... 16.821861\n",
      "HI.19980914.29108.fits ... 16.822222\n",
      "HI.19980915.26653.fits ...   16.8225\n",
      "HI.19980916.25837.fits ... 16.823694\n",
      "HI.19980918.24196.fits ... 16.825194\n",
      "HI.20010706.31901.fits ... 16.820944\n",
      "                   ... ...       ...\n",
      "HI.20030518.42838.fits ... 16.822139\n",
      "HI.20030729.30201.fits ... 16.824111\n",
      "HI.20040624.30793.fits ... 16.824167\n",
      "HI.20040625.31294.fits ... 16.824778\n",
      "HI.20041002.18948.fits ... 17.509944\n",
      "HI.20041002.19291.fits ... 17.509944\n",
      "HI.20041002.19935.fits ... 17.509944\n",
      "HI.20041002.20579.fits ... 17.509944\n",
      "HI.20050301.49856.fits ... 16.825028\n",
      "HI.20160126.56113.fits ...   16.8245\n"
     ]
    }
   ],
   "source": [
    "sql=(\"select koaid, filehand, ra2000, dec2000 from koa_hires where \\\n",
    "    contains(point('icrs', ra2000, dec2000), \\\n",
    "    circle('icrs',262.0,17.0,1.0)) = 1\")\n",
    "\n",
    "results  = koa.run_sync(sql)\n",
    "print(results)\n",
    "\n",
    "table_spatial_1=results.to_table()\n",
    "table.write ('./table_spatial_1.vot',format='votable',overwrite=True)\n"
   ]
  },
  {
   "cell_type": "markdown",
   "metadata": {},
   "source": [
    "###  Spatial box search"
   ]
  },
  {
   "cell_type": "code",
   "execution_count": 16,
   "metadata": {},
   "outputs": [
    {
     "name": "stdout",
     "output_type": "stream",
     "text": [
      "<Table length=994>\n",
      "        koaid          ...  dec2000  \n",
      "        object         ...  float64  \n",
      "---------------------- ... ----------\n",
      "HI.19941214.78458.fits ...  29.922813\n",
      "HI.19950716.29399.fits ... -37.293839\n",
      "HI.19950716.29658.fits ... -37.293839\n",
      "HI.19950716.29859.fits ... -37.293839\n",
      "HI.19950716.30097.fits ... -37.293839\n",
      "HI.19951129.15228.fits ...       25.0\n",
      "HI.19951129.15327.fits ...       25.0\n",
      "HI.19960523.16557.fits ...    5.33211\n",
      "HI.19960523.16106.fits ...    5.33211\n",
      "HI.19960523.16363.fits ...    5.33211\n",
      "                   ... ...        ...\n",
      "HI.20180830.30875.fits ...   66.69553\n",
      "HI.20180830.31040.fits ...   66.69553\n",
      "HI.20180830.31309.fits ...   66.69553\n",
      "HI.20180830.31509.fits ...   66.69553\n",
      "HI.20180830.31632.fits ...   66.69553\n",
      "HI.20190125.58818.fits ...   47.40228\n",
      "HI.20190125.58982.fits ...   34.27144\n",
      "HI.20180929.18460.fits ...   52.79053\n",
      "HI.20180923.20972.fits ...   27.28369\n",
      "HI.20180928.20868.fits ...   52.79058\n"
     ]
    }
   ],
   "source": [
    "sql=(\"select koaid, filehand, ra2000, dec2000 from koa_hires where \\\n",
    "     contains(point('icrs', ra2000, dec2000), \\\n",
    "     box('icrs',262.0,17.0,2.0,120)) = 1\")\n",
    "\n",
    "results = koa.run_sync(sql)\n",
    "print (results)\n",
    "\n",
    "table_spatial_box=results.to_table()\n",
    "table.write ('./table_spatial_box.vot',format='votable',overwrite=True)\n"
   ]
  },
  {
   "cell_type": "markdown",
   "metadata": {},
   "source": [
    "### Spatial polygon search "
   ]
  },
  {
   "cell_type": "code",
   "execution_count": 48,
   "metadata": {},
   "outputs": [
    {
     "name": "stdout",
     "output_type": "stream",
     "text": [
      "<Table length=28>\n",
      "        koaid          ...  dec2000 \n",
      "        object         ...  float64 \n",
      "---------------------- ... ---------\n",
      "HI.20040114.51275.fits ... 54.353806\n",
      "HI.20040114.53552.fits ... 54.353806\n",
      "HI.20040114.55829.fits ... 54.353806\n",
      "HI.20040114.58182.fits ... 54.353833\n",
      "HI.20060420.33559.fits ... 54.352917\n",
      "HI.20060420.35412.fits ... 54.352917\n",
      "HI.20060420.37265.fits ... 54.352917\n",
      "HI.20060420.39117.fits ... 54.352917\n",
      "HI.20060420.41232.fits ... 54.317028\n",
      "HI.20060420.43085.fits ... 54.317028\n",
      "                   ... ...       ...\n",
      "HI.20110905.19585.fits ...  54.27675\n",
      "HI.20110909.17581.fits ...  54.27289\n",
      "HI.20110909.18064.fits ...  54.27289\n",
      "HI.20110909.18415.fits ...  54.27289\n",
      "HI.20110909.19067.fits ...  54.27289\n",
      "HI.20110909.19719.fits ...  54.27289\n",
      "HI.20110920.17641.fits ...  54.27347\n",
      "HI.20110923.18047.fits ...  54.27414\n",
      "HI.20110923.18126.fits ...  54.27414\n",
      "HI.20110923.18478.fits ...  54.27414\n"
     ]
    }
   ],
   "source": [
    "sql=(\"select koaid, filehand, ra2000, dec2000 from koa.koa_hires_v7 where \\\n",
    "    contains(point('icrs', ra2000, dec2000), \\\n",
    "    polygon('icrs',209.80225,53.34894,209.80225,55.34894,211.80225,54.34894)) = 1\")\n",
    "\n",
    "results = koa.run_sync(sql)\n",
    "print(results)\n",
    "\n",
    "table_spatial_P=results.to_table()\n",
    "table.write ('./table_spatial_P.tbl',format='votable',overwrite=True)"
   ]
  },
  {
   "cell_type": "markdown",
   "metadata": {},
   "source": [
    "### Count number of records in date range"
   ]
  },
  {
   "cell_type": "code",
   "execution_count": 49,
   "metadata": {},
   "outputs": [
    {
     "name": "stdout",
     "output_type": "stream",
     "text": [
      "<Table length=1>\n",
      "count(*)\n",
      " int32  \n",
      "--------\n",
      "      61\n"
     ]
    }
   ],
   "source": [
    "sql=(\"select count(*) from koa_hires where \\\n",
    "    (utdatetime >= to_date('2009-01-01 00:00:00', 'yyyy-mm-dd HH24:MI:SS') and \\\n",
    "     utdatetime <= to_date('2009-01-05 23:59:59', 'yyyy-mm-dd HH24:MI:SS'))\"  )\n",
    "\n",
    "results = koa.run_sync(sql)\n",
    "print(results)"
   ]
  },
  {
   "cell_type": "markdown",
   "metadata": {},
   "source": [
    " ### Count total number of records in table"
   ]
  },
  {
   "cell_type": "code",
   "execution_count": 50,
   "metadata": {},
   "outputs": [
    {
     "name": "stdout",
     "output_type": "stream",
     "text": [
      "<Table length=1>\n",
      "total \n",
      "int32 \n",
      "------\n",
      "408492\n"
     ]
    }
   ],
   "source": [
    "sql=\"select count(*) as total from koa_hires\"\n",
    "\n",
    "results = koa.run_sync(sql)\n",
    "print(results)"
   ]
  },
  {
   "cell_type": "markdown",
   "metadata": {},
   "source": [
    "-----------------\n",
    "\n",
    "<font color=\"#480000\">Visit KOA at https://koa.ipac.caltech.edu.  \n",
    "\n",
    "<font color=\"#480000\"> The Keck Observatory Archive (KOA) is a collaboration between the NASA Exoplanet Science Institute (NExScI) and the W. M. Keck Observatory (WMKO). NExScI is sponsored by NASA's Exoplanet Exploration Program, and operated by the California Institute of Technology in coordination with the Jet Propulsion Laboratory (JPL).\n",
    "\n",
    "    \n",
    "<font color=\"#480000\"> Need help? Submit your questions to the KOA Help Desk at https://koa.ipac.caltech.edu/cgi-bin/Helpdesk/nph-genTicketForm?projname=KOA"
   ]
  },
  {
   "cell_type": "code",
   "execution_count": null,
   "metadata": {},
   "outputs": [],
   "source": []
  }
 ],
 "metadata": {
  "kernelspec": {
   "display_name": "Python 3",
   "language": "python",
   "name": "python3"
  },
  "language_info": {
   "codemirror_mode": {
    "name": "ipython",
    "version": 3
   },
   "file_extension": ".py",
   "mimetype": "text/x-python",
   "name": "python",
   "nbconvert_exporter": "python",
   "pygments_lexer": "ipython3",
   "version": "3.6.5"
  }
 },
 "nbformat": 4,
 "nbformat_minor": 2
}
